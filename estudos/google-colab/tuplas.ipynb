{
  "nbformat": 4,
  "nbformat_minor": 0,
  "metadata": {
    "colab": {
      "provenance": [],
      "collapsed_sections": [
        "xpsth1xZvaDK",
        "hgHZdBOqOgHI",
        "FZu1RxbyIRwQ",
        "p4PbmWHkN6El",
        "F1WG_DC6Of-W",
        "UPkDowiqOgDg",
        "PXdryaC7Of3O",
        "f7TY4VMUOc-c"
      ],
      "authorship_tag": "ABX9TyPTQFJUMYhXV6bF8+ST03w1"
    },
    "kernelspec": {
      "name": "python3",
      "display_name": "Python 3"
    },
    "language_info": {
      "name": "python"
    }
  },
  "cells": [
    {
      "cell_type": "markdown",
      "metadata": {
        "id": "xpsth1xZvaDK"
      },
      "source": [
        "# Criar"
      ]
    },
    {
      "cell_type": "code",
      "metadata": {
        "id": "uwBxxC92uyLS"
      },
      "source": [
        "tupla = (\"morango\", \"banana\", \"uva\")\n",
        "tupla_2 = tuple((\"apple\", \"banana\", \"uva\"))"
      ],
      "execution_count": null,
      "outputs": []
    },
    {
      "cell_type": "markdown",
      "source": [
        "# Tamanho"
      ],
      "metadata": {
        "id": "hgHZdBOqOgHI"
      }
    },
    {
      "cell_type": "code",
      "source": [
        "tupla = (\"pera\", \"uva\", \"melancia\")\n",
        "tamanho = len(tupla)"
      ],
      "metadata": {
        "id": "duSXiGrUOgHJ"
      },
      "execution_count": null,
      "outputs": []
    },
    {
      "cell_type": "markdown",
      "metadata": {
        "id": "FZu1RxbyIRwQ"
      },
      "source": [
        "# Indexação"
      ]
    },
    {
      "cell_type": "code",
      "metadata": {
        "id": "19Glt87Pvllk",
        "outputId": "3d420a58-a961-4b7d-9a8f-32f842133061",
        "colab": {
          "base_uri": "https://localhost:8080/"
        }
      },
      "source": [
        "tupla = (\"apple\", \"banana\", \"uva\")\n",
        "print(tupla[0])\n",
        "print(tupla[-1])\n",
        "\n",
        "# Todos elementos\n",
        "for x in tupla:\n",
        "    print(x)\n",
        "\n",
        "# Todos elementos - jeito 2\n",
        "for i in range(len(tupla)):\n",
        "    print(tupla[i])\n"
      ],
      "execution_count": null,
      "outputs": [
        {
          "output_type": "stream",
          "name": "stdout",
          "text": [
            "apple\n",
            "cherry\n"
          ]
        }
      ]
    },
    {
      "cell_type": "markdown",
      "source": [
        "# Slice"
      ],
      "metadata": {
        "id": "p4PbmWHkN6El"
      }
    },
    {
      "cell_type": "code",
      "metadata": {
        "id": "0f_SdM44vlu-",
        "outputId": "06b67625-1e88-4fd9-c34a-521fa9c2fbdc",
        "colab": {
          "base_uri": "https://localhost:8080/"
        }
      },
      "source": [
        "tupla = (\"apple\", \"banana\", \"uva\")\n",
        "print(tupla[0:2])"
      ],
      "execution_count": null,
      "outputs": [
        {
          "output_type": "execute_result",
          "data": {
            "text/plain": [
              "('apple', 'banana')"
            ]
          },
          "metadata": {},
          "execution_count": 3
        }
      ]
    },
    {
      "cell_type": "markdown",
      "source": [
        "# Alterar"
      ],
      "metadata": {
        "id": "F1WG_DC6Of-W"
      }
    },
    {
      "cell_type": "code",
      "source": [
        "tupla = (\"pera\", \"uva\", \"melancia\")\n",
        "minha_lista = list(tupla)\n",
        "minha_lista[1] = \"morango\"\n",
        "tupla = tuple(minha_lista)"
      ],
      "metadata": {
        "id": "T37QE0yyOf-W"
      },
      "execution_count": null,
      "outputs": []
    },
    {
      "cell_type": "markdown",
      "source": [
        "# Copiar / Juntar"
      ],
      "metadata": {
        "id": "UPkDowiqOgDg"
      }
    },
    {
      "cell_type": "code",
      "source": [
        "# juntar\n",
        "tupla = (\"pera\", \"uva\", \"melancia\")\n",
        "tupla_2 = (\"laranja\",)\n",
        "tupla += tupla_2\n",
        "\n",
        "# juntar\n",
        "tupla3 = tupla1 + tupla_2"
      ],
      "metadata": {
        "id": "Gb2cPIIiOgDh"
      },
      "execution_count": null,
      "outputs": []
    },
    {
      "cell_type": "markdown",
      "source": [
        "# Métodos"
      ],
      "metadata": {
        "id": "PXdryaC7Of3O"
      }
    },
    {
      "cell_type": "code",
      "source": [
        "tupla = (\"pera\", \"uva\", \"melancia\")\n",
        "\n",
        "# Index\n",
        "my_index = tupla.index(\"melancia\")\n",
        "\n",
        "# Count\n",
        "total = tupla.count(\"melancia\")\n",
        "\n",
        "# Max\n",
        "maior = max(tupla)\n",
        "\n",
        "# Min\n",
        "menor = min(tupla)\n",
        "\n",
        "# Type\n",
        "tipo = type(tupla)"
      ],
      "metadata": {
        "id": "XrYD_KtuOf3P"
      },
      "execution_count": null,
      "outputs": []
    },
    {
      "cell_type": "markdown",
      "source": [
        "# Diversos"
      ],
      "metadata": {
        "id": "f7TY4VMUOc-c"
      }
    },
    {
      "cell_type": "code",
      "source": [
        "# Testar\n",
        "tupla = (\"pera\", \"uva\", \"melancia\")\n",
        "my_bool = \"pera\" in tupla\n",
        "\n",
        "# Unpacking\n",
        "fruits = (\"pera\", \"uva\", \"melancia\")\n",
        "(amarela, roxa, verde) = fruits # \"unpacking\"\n",
        "\n",
        "# Unpacking 2\n",
        "fruits = (\"pera\", \"melancia\", \"morango\", \"cereja\")\n",
        "(amarela, verde, *red) = fruits # red == list\n",
        "\n",
        "# Multiplicar valores de uma tupla\n",
        "fruits = (\"pera\", \"uva\", \"melancia\")\n",
        "tupla = fruits * 2"
      ],
      "metadata": {
        "id": "Cdu9c4MbOfBk"
      },
      "execution_count": null,
      "outputs": []
    }
  ]
}