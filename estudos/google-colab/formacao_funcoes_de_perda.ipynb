{
  "nbformat": 4,
  "nbformat_minor": 0,
  "metadata": {
    "colab": {
      "provenance": [],
      "collapsed_sections": [
        "5yIB8xshtEdC",
        "52Z0ugBxtIYj"
      ],
      "mount_file_id": "1e1EQyXeodp_tz3q3nEzXsHt9jJp1VeKa",
      "authorship_tag": "ABX9TyNOQuwgjiqR2fncj2mlU914"
    },
    "kernelspec": {
      "name": "python3",
      "display_name": "Python 3"
    },
    "language_info": {
      "name": "python"
    }
  },
  "cells": [
    {
      "cell_type": "markdown",
      "source": [
        "# Funções de Perda"
      ],
      "metadata": {
        "id": "aEZVNPM3Vfe1"
      }
    },
    {
      "cell_type": "markdown",
      "source": [
        "## Problema de Classificação"
      ],
      "metadata": {
        "id": "5yIB8xshtEdC"
      }
    },
    {
      "cell_type": "markdown",
      "source": [
        "- Fonte: https://github.com/alura-cursos/1563-treinando-pytorch/blob/aula-01/Fun%C3%A7%C3%B5es_de_Perda.ipynb"
      ],
      "metadata": {
        "id": "EfBviY5WrzMJ"
      }
    },
    {
      "cell_type": "code",
      "execution_count": null,
      "metadata": {
        "id": "G9BTVICxVPfh"
      },
      "outputs": [],
      "source": [
        "import torch\n",
        "from torch import nn"
      ]
    },
    {
      "cell_type": "code",
      "source": [],
      "metadata": {
        "id": "28jUys3jVhAD"
      },
      "execution_count": null,
      "outputs": []
    },
    {
      "cell_type": "code",
      "source": [],
      "metadata": {
        "id": "kxlSmY65Vgye"
      },
      "execution_count": null,
      "outputs": []
    },
    {
      "cell_type": "markdown",
      "source": [
        "## Problema de Regressão"
      ],
      "metadata": {
        "id": "52Z0ugBxtIYj"
      }
    },
    {
      "cell_type": "markdown",
      "source": [
        "- Fonte: https://github.com/alura-cursos/1563-treinando-pytorch/blob/aula-01/Fun%C3%A7%C3%B5es_de_Perda.ipynb"
      ],
      "metadata": {
        "id": "OZueSuvCtIYl"
      }
    },
    {
      "cell_type": "markdown",
      "source": [
        "# a"
      ],
      "metadata": {
        "id": "7G8zt98VsmA7"
      }
    },
    {
      "cell_type": "code",
      "source": [],
      "metadata": {
        "id": "VjEmV-_KVgs2"
      },
      "execution_count": null,
      "outputs": []
    },
    {
      "cell_type": "code",
      "source": [],
      "metadata": {
        "id": "PYS2W7pvVgpL"
      },
      "execution_count": null,
      "outputs": []
    },
    {
      "cell_type": "code",
      "source": [],
      "metadata": {
        "id": "GapknSQqVgk5"
      },
      "execution_count": null,
      "outputs": []
    },
    {
      "cell_type": "code",
      "source": [],
      "metadata": {
        "id": "6c88HaejVggj"
      },
      "execution_count": null,
      "outputs": []
    },
    {
      "cell_type": "code",
      "source": [],
      "metadata": {
        "id": "v5Aj4rMhVgck"
      },
      "execution_count": null,
      "outputs": []
    },
    {
      "cell_type": "code",
      "source": [],
      "metadata": {
        "id": "Q126sIk2VgTh"
      },
      "execution_count": null,
      "outputs": []
    }
  ]
}