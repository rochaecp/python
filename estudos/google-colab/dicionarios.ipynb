{
  "nbformat": 4,
  "nbformat_minor": 0,
  "metadata": {
    "colab": {
      "provenance": [],
      "collapsed_sections": [
        "TOOmC-sBIxXS",
        "7NHcpODDVWQb",
        "qTRkbnDiVYPE",
        "4A5xlGtVVYVz",
        "6L_va_nDVYbR",
        "_qU2JFPQWPcX",
        "k_UF-SQJWTBa",
        "Q4DFiS_zWYRH",
        "bhvc8-WWWdYb",
        "z4tYy5G5YJRn",
        "CcpYfrnaVY_E",
        "ROZZjtudVZC2"
      ],
      "authorship_tag": "ABX9TyOp7cd4ld2z4tmM6s1E95Tn"
    },
    "kernelspec": {
      "name": "python3",
      "display_name": "Python 3"
    },
    "language_info": {
      "name": "python"
    }
  },
  "cells": [
    {
      "cell_type": "markdown",
      "metadata": {
        "id": "TOOmC-sBIxXS"
      },
      "source": [
        "# Criar"
      ]
    },
    {
      "cell_type": "code",
      "source": [
        "meu_dicionario = {\n",
        "    \"nome\": \"Mauricio\",\n",
        "    \"idade\": 31,\n",
        "    \"linguagens\": [\"JS\", \"C#\", \"Python\"]\n",
        "}"
      ],
      "metadata": {
        "id": "KkS6BBX-WKM2"
      },
      "execution_count": null,
      "outputs": []
    },
    {
      "cell_type": "markdown",
      "metadata": {
        "id": "7NHcpODDVWQb"
      },
      "source": [
        "# Tamanho"
      ]
    },
    {
      "cell_type": "code",
      "source": [
        "meu_dicionario = {\n",
        "    \"nome\": \"Mauricio\",\n",
        "    \"idade\": 31,\n",
        "    \"linguagens\": [\"JS\", \"C#\", \"Python\"]\n",
        "}\n",
        "\n",
        "s = tamanho = len(meu_dicionario) # 3"
      ],
      "metadata": {
        "id": "l2Cil_pwWJaP"
      },
      "execution_count": null,
      "outputs": []
    },
    {
      "cell_type": "markdown",
      "metadata": {
        "id": "qTRkbnDiVYPE"
      },
      "source": [
        "# Indexação - valores"
      ]
    },
    {
      "cell_type": "code",
      "source": [
        "meu_dicionario = {\n",
        "    \"nome\": \"Mauricio\",\n",
        "    \"idade\": 31,\n",
        "    \"linguagens\": [\"JS\", \"C#\", \"Python\"]\n",
        "}\n",
        "\n",
        "# Um valor\n",
        "meu_item = meu_dicionario[\"nome\"]\n",
        "meu_item = meu_dicionario.get(\"nome\")\n",
        "\n",
        "# Todos\n",
        "for x in meu_dicionario:\n",
        "    print(meu_dicionario[x])\n",
        "print()\n",
        "\n",
        "# Todos - jeito 2\n",
        "for x in meu_dicionario.values():\n",
        "    print(x)\n",
        "\n",
        "# armazenar em lista\n",
        "lista_valores = meu_dicionario.values()\n",
        "print(lista_valores)"
      ],
      "metadata": {
        "colab": {
          "base_uri": "https://localhost:8080/"
        },
        "id": "Fwv1Yh6HWIzm",
        "outputId": "a75fa4eb-16df-4c4e-b7dd-2ca6b8d9f633"
      },
      "execution_count": null,
      "outputs": [
        {
          "output_type": "stream",
          "name": "stdout",
          "text": [
            "Mauricio\n",
            "31\n",
            "['JS', 'C#', 'Python']\n",
            "\n",
            "Mauricio\n",
            "31\n",
            "['JS', 'C#', 'Python']\n",
            "dict_values(['Mauricio', 31, ['JS', 'C#', 'Python']])\n"
          ]
        }
      ]
    },
    {
      "cell_type": "markdown",
      "metadata": {
        "id": "4A5xlGtVVYVz"
      },
      "source": [
        "# Indexação - chaves"
      ]
    },
    {
      "cell_type": "code",
      "source": [
        "meu_dicionario = {\n",
        "    \"nome\": \"Mauricio\",\n",
        "    \"idade\": 31,\n",
        "    \"linguagens\": [\"JS\", \"C#\", \"Python\"]\n",
        "}\n",
        "\n",
        "# jeito 1\n",
        "for x in meu_dicionario:\n",
        "    print(x)\n",
        "\n",
        "# jeito 2\n",
        "for x in meu_dicionario.keys():\n",
        "    print(x)\n",
        "\n",
        "# jeito 3\n",
        "lista_chaves = meu_dicionario.keys()"
      ],
      "metadata": {
        "id": "zSkt6PwoWIPO"
      },
      "execution_count": null,
      "outputs": []
    },
    {
      "cell_type": "markdown",
      "metadata": {
        "id": "6L_va_nDVYbR"
      },
      "source": [
        "# Indexação - itens"
      ]
    },
    {
      "cell_type": "code",
      "source": [
        "meu_dicionario = {\n",
        "    \"nome\": \"Mauricio\",\n",
        "    \"idade\": 31,\n",
        "    \"linguagens\": [\"JS\", \"C#\", \"Python\"]\n",
        "}\n",
        "\n",
        "\n",
        "# jeito 1\n",
        "lista_de_tuplas_itens = meu_dicionario.items()\n",
        "\n",
        "# jeito 2\n",
        "for x, y in meu_dicionario.items():\n",
        "    print(x, y) # keys, values"
      ],
      "metadata": {
        "colab": {
          "base_uri": "https://localhost:8080/"
        },
        "id": "48iQF9bpWHqz",
        "outputId": "8b632d59-8029-49fc-e5a5-9bc45a17064d"
      },
      "execution_count": null,
      "outputs": [
        {
          "output_type": "stream",
          "name": "stdout",
          "text": [
            "nome Mauricio\n",
            "idade 31\n",
            "linguagens ['JS', 'C#', 'Python']\n"
          ]
        }
      ]
    },
    {
      "cell_type": "markdown",
      "source": [
        "# Altear"
      ],
      "metadata": {
        "id": "_qU2JFPQWPcX"
      }
    },
    {
      "cell_type": "code",
      "source": [
        "meu_dicionario = {\n",
        "    \"nome\": \"Mauricio\",\n",
        "    \"idade\": 31,\n",
        "    \"linguagens\": [\"JS\", \"C#\", \"Python\"]\n",
        "}\n",
        "\n",
        "\n",
        "# jeito 1\n",
        "meu_dicionario['idade'] = 32\n",
        "\n",
        "# jeito 2\n",
        "meu_dicionario.update({\"idade\": 32})"
      ],
      "metadata": {
        "id": "zU0vgYFFWQ-e"
      },
      "execution_count": null,
      "outputs": []
    },
    {
      "cell_type": "markdown",
      "source": [
        "# Incluir"
      ],
      "metadata": {
        "id": "k_UF-SQJWTBa"
      }
    },
    {
      "cell_type": "code",
      "source": [
        "meu_dicionario = {\n",
        "    \"nome\": \"Mauricio\",\n",
        "    \"idade\": 31,\n",
        "    \"linguagens\": [\"JS\", \"C#\", \"Python\"]\n",
        "}\n",
        "\n",
        "# jeito 1\n",
        "meu_dicionario[\"signo\"] = \"Capricórnio\"\n",
        "\n",
        "# jeito 2\n",
        "meu_dicionario.update({\"signo\": \"Capricórnio\"})"
      ],
      "metadata": {
        "id": "bmljRqgdWWS5"
      },
      "execution_count": null,
      "outputs": []
    },
    {
      "cell_type": "markdown",
      "source": [
        "# Remover"
      ],
      "metadata": {
        "id": "Q4DFiS_zWYRH"
      }
    },
    {
      "cell_type": "code",
      "source": [
        "meu_dicionario = {\n",
        "    \"nome\": \"Mauricio\",\n",
        "    \"idade\": 31,\n",
        "    \"linguagens\": [\"JS\", \"C#\", \"Python\"]\n",
        "}\n",
        "\n",
        "\n",
        "# jeito 1\n",
        "meu_dicionario.pop(\"linguagens\")\n",
        "\n",
        "# jeito 2\n",
        "meu_dicionario.popitem() # versao 3.7\n",
        "\n",
        "# jeito 3\n",
        "del meu_dicionario['idade']\n",
        "\n",
        "del meu_dicionario\n",
        "meu_dicionario.clear()"
      ],
      "metadata": {
        "colab": {
          "base_uri": "https://localhost:8080/"
        },
        "id": "8bY89mlLWamP",
        "outputId": "9a33102f-9fd4-4a5d-825d-2e070b7738cc"
      },
      "execution_count": null,
      "outputs": [
        {
          "output_type": "execute_result",
          "data": {
            "text/plain": [
              "('idade', 31)"
            ]
          },
          "metadata": {},
          "execution_count": 6
        }
      ]
    },
    {
      "cell_type": "markdown",
      "source": [
        "# Copiar"
      ],
      "metadata": {
        "id": "bhvc8-WWWdYb"
      }
    },
    {
      "cell_type": "code",
      "source": [
        "meu_dicionario = {\n",
        "    \"nome\": \"Mauricio\",\n",
        "    \"idade\": 31,\n",
        "    \"linguagens\": [\"JS\", \"C#\", \"Python\"]\n",
        "}\n",
        "\n",
        "# jeito 1\n",
        "meu_dicionario_cpy = meu_dicionario.copy()\n",
        "\n",
        "# jeito 2\n",
        "meu_dicionario_cpy = dict(meu_dicionario)"
      ],
      "metadata": {
        "id": "xiRamN1FWfNp"
      },
      "execution_count": null,
      "outputs": []
    },
    {
      "cell_type": "markdown",
      "source": [
        "# Dicionários aninhados"
      ],
      "metadata": {
        "id": "z4tYy5G5YJRn"
      }
    },
    {
      "cell_type": "code",
      "source": [
        "# Dicionarios aninhados jeito 1\n",
        "meu_dicionario = {\n",
        "    \"filho1\" : {\n",
        "        \"nome\" : \"Filhoquinho\",\n",
        "        \"ano\" : 2020\n",
        "    },\n",
        "    \"filho2\" : {\n",
        "        \"nome\" : \"Bill Gates\",\n",
        "        \"ano\" : 2007\n",
        "    },\n",
        "    \"filho3\" : {\n",
        "        \"nome\" : \"Linus\",\n",
        "        \"ano\" : 2011\n",
        "    }\n",
        "}\n",
        "\n",
        "print(meu_dicionario[\"filho1\"])\n",
        "print(meu_dicionario[\"filho1\"][\"nome\"])\n",
        "\n",
        "\n",
        "\n",
        "\n",
        "# jeito 2\n",
        "filho1 = {\n",
        "    \"nome\" : \"Filhoquinho\",\n",
        "    \"ano\" : 2020\n",
        "}\n",
        "filho2 = {\n",
        "    \"nome\" : \"Bill Gates\",\n",
        "    \"ano\" : 2007\n",
        "}\n",
        "filho3 = {\n",
        "    \"nome\" : \"Linus\",\n",
        "    \"ano\" : 2011\n",
        "}\n",
        "\n",
        "meu_dicionario = {\n",
        "    \"filho1\" : filho1,\n",
        "    \"filho2\" : filho2,\n",
        "    \"filho3\" : filho3\n",
        "}"
      ],
      "metadata": {
        "id": "3Wynzu7PYKOj"
      },
      "execution_count": null,
      "outputs": []
    },
    {
      "cell_type": "markdown",
      "metadata": {
        "id": "CcpYfrnaVY_E"
      },
      "source": [
        "# Métodos"
      ]
    },
    {
      "cell_type": "code",
      "source": [],
      "metadata": {
        "id": "d13GUOzhWGs8"
      },
      "execution_count": null,
      "outputs": []
    },
    {
      "cell_type": "markdown",
      "metadata": {
        "id": "ROZZjtudVZC2"
      },
      "source": [
        "# Diversos"
      ]
    },
    {
      "cell_type": "code",
      "source": [
        "meu_dicionario = {\n",
        "    \"nome\": \"Mauricio\",\n",
        "    \"idade\": 31,\n",
        "    \"linguagens\": [\"JS\", \"C#\", \"Python\"]\n",
        "}\n",
        "\n",
        "# Testar\n",
        "if \"nome\" in meu_dicionario:\n",
        "    print(\"Yes\")"
      ],
      "metadata": {
        "id": "Ww6fPR5XV6Pp"
      },
      "execution_count": null,
      "outputs": []
    }
  ]
}