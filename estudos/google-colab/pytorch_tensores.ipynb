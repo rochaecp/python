{
  "nbformat": 4,
  "nbformat_minor": 0,
  "metadata": {
    "colab": {
      "provenance": [],
      "collapsed_sections": [
        "TcUfvObfXnbD",
        "2HdLy8R2gq-H",
        "7XVn4HnFGoZ6",
        "5xNodPrwguGw",
        "UHPEVIxE3iaQ",
        "ZiuYlFUt3laZ",
        "tHZ7zpTI3shb",
        "WsF0l8PW9X1_",
        "2ijmaV5B36sp",
        "MofaElKw362p",
        "Ykwcq1oiFEhy",
        "BS-AxkTeJT_J"
      ],
      "gpuType": "T4",
      "authorship_tag": "ABX9TyP3O6TwC069oaMCIWt7TZlU"
    },
    "kernelspec": {
      "name": "python3",
      "display_name": "Python 3"
    },
    "language_info": {
      "name": "python"
    }
  },
  "cells": [
    {
      "cell_type": "markdown",
      "source": [
        "- Documentação: https://pytorch.org/tutorials/\n",
        "- Documentação / tensores: https://pytorch.org/docs/stable/tensors.html"
      ],
      "metadata": {
        "id": "PoriuSz11l_k"
      }
    },
    {
      "cell_type": "markdown",
      "source": [
        "# Tipos"
      ],
      "metadata": {
        "id": "TcUfvObfXnbD"
      }
    },
    {
      "cell_type": "code",
      "source": [
        "# FloatTensor: 32-bit float - é o default\n",
        "\n",
        "# DoubleTensor: 64-bit float\n",
        "\n",
        "# HalfTensor: 16-bit float\n",
        "\n",
        "# IntTensor: 32-bit int\n",
        "\n",
        "# LongTensor: 64-bit int"
      ],
      "metadata": {
        "id": "d758K37uXpy4"
      },
      "execution_count": null,
      "outputs": []
    },
    {
      "cell_type": "markdown",
      "source": [
        "# Criar"
      ],
      "metadata": {
        "id": "2HdLy8R2gq-H"
      }
    },
    {
      "cell_type": "code",
      "execution_count": null,
      "metadata": {
        "id": "bfUREQ1igi5b",
        "colab": {
          "base_uri": "https://localhost:8080/"
        },
        "outputId": "c52ac3c1-d8c8-4d59-cf44-2f9e181d1106"
      },
      "outputs": [
        {
          "output_type": "stream",
          "name": "stdout",
          "text": [
            "tensor(5)\n",
            "\n",
            "tensor([-0.3017,  0.8973,  3.1591, -0.2370,  0.7509,  1.4763, -1.7741, -0.4327])\n",
            "\n",
            "tensor([[0., 0., 0.],\n",
            "        [0., 0., 0.]])\n",
            "\n",
            "tensor([[1., 1., 1.],\n",
            "        [1., 1., 1.]])\n",
            "\n",
            "tensor([[ 0.6456,  0.0618,  0.6351],\n",
            "        [-0.8390, -0.1186,  0.0262]])\n",
            "\n",
            "tensor([[0.8893, 0.7211, 0.7808],\n",
            "        [0.9549, 0.4789, 0.5798]])\n",
            "\n"
          ]
        }
      ],
      "source": [
        "import torch\n",
        "\n",
        "# 0D inserindo valores manualmente\n",
        "tns_m0 = torch.tensor(5)\n",
        "print(tns_m0)\n",
        "print()\n",
        "\n",
        "# 1D com valores aleat a partir de distrib normal\n",
        "tns_rn_1d = torch.randn(8)\n",
        "print(tns_rn_1d)\n",
        "print()\n",
        "\n",
        "# 2D com zeros\n",
        "tns_z = torch.zeros(2, 3)\n",
        "print(tns_z)\n",
        "print()\n",
        "\n",
        "# 2D com uns\n",
        "tns_o = torch.ones(2, 3)\n",
        "print(tns_o)\n",
        "print()\n",
        "\n",
        "# 2D com valores aleat a partir de distrib normal\n",
        "tns_rn = torch.randn(2, 3)\n",
        "print(tns_rn)\n",
        "print()\n",
        "\n",
        "# 2D com valores aleat\n",
        "tns_r = torch.rand(2, 3)\n",
        "print(tns_r)\n",
        "print()"
      ]
    },
    {
      "cell_type": "markdown",
      "source": [
        "# Concatenar"
      ],
      "metadata": {
        "id": "7XVn4HnFGoZ6"
      }
    },
    {
      "cell_type": "code",
      "source": [
        "import torch\n",
        "\n",
        "tns_a = torch.randn(2)\n",
        "tns_b = torch.randn(3)\n",
        "\n",
        "tns_concat = torch.cat((tns_a, tns_b), dim=0)\n",
        "print(tns_concat)"
      ],
      "metadata": {
        "colab": {
          "base_uri": "https://localhost:8080/"
        },
        "id": "cwVecuW9Gpwn",
        "outputId": "976bb36c-1f94-45da-94d5-0351f07d32bc"
      },
      "execution_count": null,
      "outputs": [
        {
          "output_type": "stream",
          "name": "stdout",
          "text": [
            "tensor([ 2.3183, -1.3571, -1.7123,  0.0764,  0.1842])\n"
          ]
        }
      ]
    },
    {
      "cell_type": "markdown",
      "source": [
        "# Converter"
      ],
      "metadata": {
        "id": "5xNodPrwguGw"
      }
    },
    {
      "cell_type": "markdown",
      "source": [
        "## Lista em Tensor"
      ],
      "metadata": {
        "id": "UHPEVIxE3iaQ"
      }
    },
    {
      "cell_type": "code",
      "execution_count": null,
      "metadata": {
        "id": "Is7CXD6jguGw",
        "colab": {
          "base_uri": "https://localhost:8080/"
        },
        "outputId": "e649b74b-0072-4295-b0bb-f67406dbcf31"
      },
      "outputs": [
        {
          "output_type": "stream",
          "name": "stdout",
          "text": [
            "torch.float32\n",
            "tensor([[1., 2., 3.],\n",
            "        [3., 4., 5.]])\n",
            "\n",
            "torch.float32\n",
            "tensor([[1., 2., 3.],\n",
            "        [3., 4., 5.]])\n",
            "\n",
            "torch.float64\n",
            "tensor([[1., 2., 3.],\n",
            "        [3., 4., 5.]], dtype=torch.float64)\n",
            "\n",
            "torch.int64\n",
            "tensor([[1, 2, 3],\n",
            "        [3, 4, 5]])\n",
            "\n"
          ]
        }
      ],
      "source": [
        "import torch\n",
        "\n",
        "lista = [[1, 2, 3],\n",
        "         [3, 4, 5]]\n",
        "\n",
        "# para formato default (float)\n",
        "tns_f = torch.Tensor(lista)\n",
        "print(tns_f.dtype)\n",
        "print(tns_f)\n",
        "print()\n",
        "\n",
        "# explicitamente para float\n",
        "tns_f = torch.FloatTensor(lista)\n",
        "print(tns_f.dtype)\n",
        "print(tns_f)\n",
        "print()\n",
        "\n",
        "# explicitamente para double\n",
        "tns_d = torch.DoubleTensor(lista)\n",
        "print(tns_d.dtype)\n",
        "print(tns_d)\n",
        "print()\n",
        "\n",
        "# explicitamente para long\n",
        "tns_l = torch.LongTensor(lista)\n",
        "print(tns_l.dtype)\n",
        "print(tns_l)\n",
        "print()"
      ]
    },
    {
      "cell_type": "markdown",
      "source": [
        "## Array Numpy em Tensor"
      ],
      "metadata": {
        "id": "ZiuYlFUt3laZ"
      }
    },
    {
      "cell_type": "code",
      "execution_count": null,
      "metadata": {
        "colab": {
          "base_uri": "https://localhost:8080/"
        },
        "id": "ku0NL_lY3laZ",
        "outputId": "47148b96-090a-4f28-b53a-39bb813d16dd"
      },
      "outputs": [
        {
          "output_type": "stream",
          "name": "stdout",
          "text": [
            "[[0.04898115 0.37520866 0.73462963 0.07324555]\n",
            " [0.96913612 0.6699024  0.92780701 0.83796143]\n",
            " [0.65606633 0.60508724 0.59466858 0.77717414]]\n",
            "float64\n",
            "\n",
            "tensor([[0.0490, 0.3752, 0.7346, 0.0732],\n",
            "        [0.9691, 0.6699, 0.9278, 0.8380],\n",
            "        [0.6561, 0.6051, 0.5947, 0.7772]], dtype=torch.float64)\n",
            "torch.float64\n",
            "\n",
            "[[0 0 0 0]\n",
            " [0 0 0 0]\n",
            " [0 0 0 0]]\n",
            "int64\n",
            "\n",
            "tensor([[0, 0, 0, 0],\n",
            "        [0, 0, 0, 0],\n",
            "        [0, 0, 0, 0]])\n",
            "torch.int64\n",
            "\n"
          ]
        }
      ],
      "source": [
        "import torch\n",
        "import numpy as np\n",
        "\n",
        "# cria array float\n",
        "arr = np.random.rand(3,4)\n",
        "print(arr)\n",
        "print(arr.dtype)\n",
        "print()\n",
        "\n",
        "# converte par atensor float\n",
        "tns = torch.from_numpy(arr)\n",
        "print(tns)\n",
        "print(tns.dtype)\n",
        "print()\n",
        "\n",
        "# cria array int\n",
        "arr_int = arr.astype(int)\n",
        "print(arr_int)\n",
        "print(arr_int.dtype)\n",
        "print()\n",
        "\n",
        "# converte para tensor int\n",
        "tns_int = torch.from_numpy(arr_int)\n",
        "print(tns_int)\n",
        "print(tns_int.dtype)\n",
        "print()"
      ]
    },
    {
      "cell_type": "markdown",
      "source": [
        "## Tensor em Array Numpy"
      ],
      "metadata": {
        "id": "tHZ7zpTI3shb"
      }
    },
    {
      "cell_type": "code",
      "execution_count": null,
      "metadata": {
        "colab": {
          "base_uri": "https://localhost:8080/"
        },
        "id": "DWzSTqkC3shi",
        "outputId": "3160417f-440e-4183-f6fd-92ce682f0e17"
      },
      "outputs": [
        {
          "output_type": "stream",
          "name": "stdout",
          "text": [
            "[[1.0024849  0.5722469  0.58960336]\n",
            " [0.2986532  0.4889372  0.2892204 ]]\n",
            "<class 'numpy.ndarray'>\n"
          ]
        }
      ],
      "source": [
        "import torch\n",
        "\n",
        "tns = torch.randn(2, 3)\n",
        "\n",
        "arr = tns.data.numpy()\n",
        "print(arr)\n",
        "print(type(arr))"
      ]
    },
    {
      "cell_type": "markdown",
      "source": [
        "# Indexação"
      ],
      "metadata": {
        "id": "Ne7Y0wPYguTK"
      }
    },
    {
      "cell_type": "code",
      "execution_count": null,
      "metadata": {
        "id": "WIDfSKm_guTL",
        "colab": {
          "base_uri": "https://localhost:8080/"
        },
        "outputId": "21e020c6-e176-4fd5-8db9-2dd723d45574"
      },
      "outputs": [
        {
          "output_type": "stream",
          "name": "stdout",
          "text": [
            "tensor([[ 0.7315,  1.7457, -0.5216, -1.2520],\n",
            "        [ 0.3874, -0.8628,  0.1220, -0.9950],\n",
            "        [ 1.3138, -0.8152, -1.8716, -1.3057]])\n",
            "\n",
            "tensor([[ 0.7315, 10.0000, -0.5216, -1.2520],\n",
            "        [ 0.3874, -0.8628,  0.1220, -0.9950],\n",
            "        [ 1.3138, -0.8152, -1.8716, -1.3057]])\n",
            "\n",
            "tensor(0.7315)\n",
            "tensor([[ 0.7315, 10.0000, -0.5216, -1.2520],\n",
            "        [ 0.3874, -0.8628,  0.1220, -0.9950]])\n",
            "tensor([[ 0.7315, 10.0000],\n",
            "        [ 0.3874, -0.8628]])\n",
            "\n",
            "tensor([[ 0.1220, -0.9950],\n",
            "        [-1.8716, -1.3057]])\n",
            "tensor([10.0000, -0.8628, -0.8152])\n",
            "\n"
          ]
        }
      ],
      "source": [
        "import torch\n",
        "\n",
        "# criar\n",
        "tns = torch.randn(3, 4)\n",
        "print(tns)\n",
        "print()\n",
        "\n",
        "# alterar\n",
        "tns[0, 1] = 10\n",
        "print(tns)\n",
        "print()\n",
        "\n",
        "# slice\n",
        "print(tns[0, 0])\n",
        "print(tns[0:2]) # printa linhas 0 e 1\n",
        "print(tns[0:2, 0:2]) # até linha 1 e ate col 1\n",
        "print()\n",
        "\n",
        "print(tns[1:, 2:]) # linha 1 em diante e coluna 2 em diante\n",
        "print(tns[:, 1]) # printa todas linhas da coluna 1\n",
        "print()"
      ]
    },
    {
      "cell_type": "markdown",
      "source": [
        "# Operações"
      ],
      "metadata": {
        "id": "WsF0l8PW9X1_"
      }
    },
    {
      "cell_type": "code",
      "source": [
        "import torch\n",
        "\n",
        "tns_a = torch.ones(2, 3)\n",
        "tns_b = torch.randn(2, 3)\n",
        "print(tns_a)\n",
        "print(tns_b)\n",
        "print(\"-\" * 40)\n",
        "print()\n",
        "\n",
        "# somar\n",
        "print(tns_a + tns_b)\n",
        "print()\n",
        "\n",
        "# subtrair\n",
        "print(tns_a - tns_b)\n",
        "print()\n",
        "\n",
        "# multiplicar ponto a ponto\n",
        "print(tns_a * tns_b)\n",
        "print()\n",
        "\n",
        "# dividir\n",
        "print(tns_a / tns_b)\n",
        "print()"
      ],
      "metadata": {
        "id": "ngNLK7Y-9bwB"
      },
      "execution_count": null,
      "outputs": []
    },
    {
      "cell_type": "code",
      "source": [
        "import torchgen\n",
        "\n",
        "tns_a = torch.randn(2, 3)\n",
        "tns_b = torch.randn(3, 1)\n",
        "print(tns_a)\n",
        "print(tns_b)\n",
        "print(\"-\" * 40)\n",
        "print()\n",
        "\n",
        "# produto interno 2D (multiplicação de matrizes \"tradicional\")\n",
        "print(torch.mm(tns_a, tns_b))\n",
        "print()"
      ],
      "metadata": {
        "id": "1SB1FfFI_f2j"
      },
      "execution_count": null,
      "outputs": []
    },
    {
      "cell_type": "markdown",
      "source": [
        "# Propriedades"
      ],
      "metadata": {
        "id": "2ijmaV5B36sp"
      }
    },
    {
      "cell_type": "code",
      "execution_count": null,
      "metadata": {
        "colab": {
          "base_uri": "https://localhost:8080/"
        },
        "id": "FtKy-VT236sq",
        "outputId": "a8bf46dc-e2f6-47dc-eec1-61f08870cf58"
      },
      "outputs": [
        {
          "output_type": "stream",
          "name": "stdout",
          "text": [
            "torch.float32\n",
            "\n",
            "torch.Size([3, 4])\n",
            "3\n",
            "4\n",
            "\n"
          ]
        }
      ],
      "source": [
        "import torch\n",
        "\n",
        "tns = torch.randn(3, 4)\n",
        "\n",
        "# tipo\n",
        "print(tns.dtype)\n",
        "print()\n",
        "\n",
        "# dimensões x e y\n",
        "print(tns.shape)\n",
        "print(tns.shape[0]) # dimensão x\n",
        "print(tns.shape[1]) # dimensão x\n",
        "print()"
      ]
    },
    {
      "cell_type": "markdown",
      "source": [
        "# Métodos"
      ],
      "metadata": {
        "id": "MofaElKw362p"
      }
    },
    {
      "cell_type": "code",
      "execution_count": null,
      "metadata": {
        "id": "QfM4lhF0362p"
      },
      "outputs": [],
      "source": [
        "import torch\n",
        "\n",
        "tns = torch.randn(2, 2, 3)\n",
        "print(tns)\n",
        "print()\n",
        "\n",
        "# dimensões x, y, z\n",
        "print(tns.size())\n",
        "print(tns.size(0))\n",
        "print(tns.size(1))\n",
        "print(tns.size(2))\n",
        "print()\n",
        "\n",
        "# redimensionar\n",
        "print(tns.view(12))\n",
        "print()\n",
        "\n",
        "# redimensionar mantendo a primeira dimensão e achatando o restante\n",
        "print(tns.view(tns.size(0), -1))\n",
        "print()"
      ]
    },
    {
      "cell_type": "code",
      "source": [],
      "metadata": {
        "id": "_E7_mC1MHOL2"
      },
      "execution_count": null,
      "outputs": []
    },
    {
      "cell_type": "markdown",
      "source": [
        "# GPU Cast"
      ],
      "metadata": {
        "id": "Ykwcq1oiFEhy"
      }
    },
    {
      "cell_type": "markdown",
      "source": [
        "- Incluir GPU no Collab:\n",
        "    - Editar -> Configurações do Notebook"
      ],
      "metadata": {
        "id": "ayjOY0kBFHIF"
      }
    },
    {
      "cell_type": "code",
      "source": [
        "import torch\n",
        "\n",
        "tns = torch.randn(10)\n",
        "print(tns)\n",
        "\n",
        "# verifica se gpu está disponível\n",
        "if torch.cuda.is_available():\n",
        "    device = torch.device('cuda')\n",
        "else:\n",
        "    device = torch.device('cpu')\n",
        "print(device)\n",
        "print()\n",
        "\n",
        "# jogar informações na gpu\n",
        "tensor = tns.to(device)\n",
        "print(tns)"
      ],
      "metadata": {
        "id": "vmHgfKEkFNrK"
      },
      "execution_count": null,
      "outputs": []
    },
    {
      "cell_type": "markdown",
      "source": [
        "# Exercícios"
      ],
      "metadata": {
        "id": "BS-AxkTeJT_J"
      }
    },
    {
      "cell_type": "markdown",
      "source": [
        "## Usando view\n",
        "\n",
        "- Crie um tensor aleatório tns1 com a dimensionalidade 7 x 7 x 3 e um outro tensor aleatório tns2 de 147 x 1. Modificando apenas tns1 some os dois tensores."
      ],
      "metadata": {
        "id": "EARDglzSJXNS"
      }
    },
    {
      "cell_type": "code",
      "source": [
        "import torch\n",
        "\n",
        "tns1 = torch.randn(7, 7, 3)\n",
        "tns2 = torch.randn(147, 1)\n",
        "\n",
        "tns1_modific = tns1.view(-1, 1) # achata o tensor\n",
        "print(tns1_modific + tns2)"
      ],
      "metadata": {
        "id": "5LSBFxupJjzr"
      },
      "execution_count": null,
      "outputs": []
    }
  ]
}