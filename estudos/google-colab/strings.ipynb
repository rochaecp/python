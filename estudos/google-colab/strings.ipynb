{
  "nbformat": 4,
  "nbformat_minor": 0,
  "metadata": {
    "colab": {
      "provenance": [],
      "collapsed_sections": [
        "pdFd1gxLyleC",
        "RBveCI5DybqH",
        "y24YI9rBypdz",
        "QP63otCcyq-2",
        "9lUdDYbuyrHO",
        "35CQu65BzEfn",
        "S1wc-2romdH1",
        "Mqp5SO38F0R3"
      ],
      "authorship_tag": "ABX9TyOtKooBi+609CLxAvZsx6Vr"
    },
    "kernelspec": {
      "name": "python3",
      "display_name": "Python 3"
    },
    "language_info": {
      "name": "python"
    }
  },
  "cells": [
    {
      "cell_type": "markdown",
      "source": [
        "# Criar"
      ],
      "metadata": {
        "id": "pdFd1gxLyleC"
      }
    },
    {
      "cell_type": "code",
      "metadata": {
        "id": "F-GA-FgmnX6o"
      },
      "source": [
        "# Criar\n",
        "nome_1 = \"Mauricio\"\n",
        "nome_2 = 'Vitoria'\n",
        "nome_varias_linhas = \"\"\"\n",
        "    Mauricio\n",
        "    Rocha\n",
        "    \"\"\""
      ],
      "execution_count": null,
      "outputs": []
    },
    {
      "cell_type": "markdown",
      "source": [
        "# Concatenar"
      ],
      "metadata": {
        "id": "RBveCI5DybqH"
      }
    },
    {
      "cell_type": "code",
      "source": [
        "nome_1 = \"Mauricio\"\n",
        "nome_2 = 'Vitoria'\n",
        "concat = nome_1 + \" e \" + nome_2\n",
        "concat"
      ],
      "metadata": {
        "colab": {
          "base_uri": "https://localhost:8080/",
          "height": 35
        },
        "id": "dJvLDynVye1q",
        "outputId": "e182c086-8eeb-47be-ccef-27ab7b9f91f0"
      },
      "execution_count": null,
      "outputs": [
        {
          "output_type": "execute_result",
          "data": {
            "text/plain": [
              "'Mauricio e Vitoria'"
            ],
            "application/vnd.google.colaboratory.intrinsic+json": {
              "type": "string"
            }
          },
          "metadata": {},
          "execution_count": 5
        }
      ]
    },
    {
      "cell_type": "markdown",
      "source": [
        "# Tamanho"
      ],
      "metadata": {
        "id": "y24YI9rBypdz"
      }
    },
    {
      "cell_type": "code",
      "source": [
        "nome = \"Mauricio\"\n",
        "print(len(nome))"
      ],
      "metadata": {
        "colab": {
          "base_uri": "https://localhost:8080/"
        },
        "id": "NoI9FLb-yqGa",
        "outputId": "c3e72fa1-39e3-4f6b-9d96-05cb25e70fad"
      },
      "execution_count": null,
      "outputs": [
        {
          "output_type": "stream",
          "name": "stdout",
          "text": [
            "8\n"
          ]
        }
      ]
    },
    {
      "cell_type": "markdown",
      "source": [
        "# Indexação"
      ],
      "metadata": {
        "id": "QP63otCcyq-2"
      }
    },
    {
      "cell_type": "code",
      "source": [
        "nome = \"Mauricio\"\n",
        "\n",
        "primeiro_caract = nome[0]\n",
        "ultimo_caract = nome[-1]\n",
        "\n",
        "for x in nome:\n",
        "    print(x)"
      ],
      "metadata": {
        "colab": {
          "base_uri": "https://localhost:8080/"
        },
        "id": "Tkmap4VOyq-3",
        "outputId": "aaef85ef-5b55-456f-b736-84779e976796"
      },
      "execution_count": null,
      "outputs": [
        {
          "output_type": "stream",
          "name": "stdout",
          "text": [
            "M\n",
            "a\n",
            "u\n",
            "r\n",
            "i\n",
            "c\n",
            "i\n",
            "o\n"
          ]
        }
      ]
    },
    {
      "cell_type": "markdown",
      "source": [
        "# Slice"
      ],
      "metadata": {
        "id": "9lUdDYbuyrHO"
      }
    },
    {
      "cell_type": "code",
      "source": [
        "nome = \"Mauricio\"\n",
        "print(nome[2:5]) # pos 2 incluso, pos 5 nao incluso\n",
        "print(nome[:5])\n",
        "print(nome[2:])\n",
        "print(nome[-3:]) # ultimos 3"
      ],
      "metadata": {
        "colab": {
          "base_uri": "https://localhost:8080/"
        },
        "id": "bdLEzrPpyrHP",
        "outputId": "6aec4cac-b036-4355-c054-281c47d249ac"
      },
      "execution_count": null,
      "outputs": [
        {
          "output_type": "stream",
          "name": "stdout",
          "text": [
            "uri\n",
            "Mauri\n",
            "uricio\n",
            "cio\n"
          ]
        }
      ]
    },
    {
      "cell_type": "markdown",
      "source": [
        "# Alterar"
      ],
      "metadata": {
        "id": "35CQu65BzEfn"
      }
    },
    {
      "cell_type": "code",
      "source": [
        "# jeito 1\n",
        "nome = \"Mauricio\"\n",
        "lista = list(nome)\n",
        "lista[0] = \"X\"\n",
        "nome = \"\".join(lista)\n",
        "print(nome)\n",
        "\n",
        "# jeito 2\n",
        "nome = \"Mauricio\"\n",
        "nome = nome[:0] + 'X' + nome[1:]\n",
        "print(nome)"
      ],
      "metadata": {
        "colab": {
          "base_uri": "https://localhost:8080/"
        },
        "id": "aFIW8n40zEfn",
        "outputId": "8392db36-9901-4d79-fe06-1ebedbd1769e"
      },
      "execution_count": null,
      "outputs": [
        {
          "output_type": "stream",
          "name": "stdout",
          "text": [
            "Xauricio\n",
            "Xauricio\n"
          ]
        }
      ]
    },
    {
      "cell_type": "markdown",
      "metadata": {
        "id": "S1wc-2romdH1"
      },
      "source": [
        "# Métodos - [Referencia W3schools](https://www.w3schools.com/python/python_ref_string.asp)"
      ]
    },
    {
      "cell_type": "code",
      "source": [
        "nome = \"Mauricio\"\n",
        "idade = 31\n",
        "pais = \" Brasil \"\n",
        "linguagens_str = \"Python C# Javascript\"\n",
        "frutas_lst = [\"Banana\", \"Kiwi\", \"Morango\"]\n",
        "\n",
        "print(nome.upper())\n",
        "print(nome.lower())\n",
        "print(nome.replace('i', 'x'))\n",
        "print(pais.strip()) # remove espacos ini e fim\n",
        "print()\n",
        "\n",
        "print(str(idade).zfill(4)) # preenche com zeros no ini\n",
        "print()\n",
        "\n",
        "print(linguagens_str.split(' '))\n",
        "print(' '.join(frutas_lst))\n",
        "print()"
      ],
      "metadata": {
        "colab": {
          "base_uri": "https://localhost:8080/"
        },
        "id": "4dylDe1t2y9t",
        "outputId": "f5cfc537-372c-40f7-bf6b-3cf50089dccb"
      },
      "execution_count": null,
      "outputs": [
        {
          "output_type": "stream",
          "name": "stdout",
          "text": [
            "MAURICIO\n",
            "mauricio\n",
            "Maurxcxo\n",
            "Brasil\n",
            "\n",
            "0031\n",
            "\n",
            "['Python', 'C#', 'Javascript']\n",
            "Banana Kiwi Morango\n",
            "\n"
          ]
        }
      ]
    },
    {
      "cell_type": "markdown",
      "metadata": {
        "id": "Mqp5SO38F0R3"
      },
      "source": [
        "# Diversos"
      ]
    },
    {
      "cell_type": "code",
      "metadata": {
        "id": "CN8CVSEdnYlv",
        "colab": {
          "base_uri": "https://localhost:8080/"
        },
        "outputId": "981d71ed-1e0b-4a4a-ddeb-def0e45b29ed"
      },
      "source": [
        "nome = \"Mauricio\"\n",
        "\n",
        "# Unidecode a partir de caractere\n",
        "print(ord(\"A\"))\n",
        "\n",
        "# String a partir de Unicode\n",
        "print(chr(66))\n",
        "\n",
        "# Testar string\n",
        "print(\"a\" in nome)\n",
        "print(\"a\" not in nome)\n",
        "print(\"amor\" < \"batata\")\n",
        "print(\"amor\" == \"batata\")"
      ],
      "execution_count": null,
      "outputs": [
        {
          "output_type": "stream",
          "name": "stdout",
          "text": [
            "65\n",
            "B\n",
            "True\n",
            "False\n",
            "True\n",
            "False\n"
          ]
        }
      ]
    }
  ]
}