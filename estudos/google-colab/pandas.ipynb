{
  "nbformat": 4,
  "nbformat_minor": 0,
  "metadata": {
    "colab": {
      "provenance": [],
      "collapsed_sections": [
        "cQL9Mse_S9l7",
        "UWvpwfD3TPjN"
      ],
      "authorship_tag": "ABX9TyNwkV6ZHwVspmB6A6Pke9jd"
    },
    "kernelspec": {
      "name": "python3",
      "display_name": "Python 3"
    },
    "language_info": {
      "name": "python"
    }
  },
  "cells": [
    {
      "cell_type": "markdown",
      "source": [
        "parei em:\n",
        "https://www.w3schools.com/python/pandas/pandas_dataframes.asp"
      ],
      "metadata": {
        "id": "awircokVRADN"
      }
    },
    {
      "cell_type": "code",
      "execution_count": null,
      "metadata": {
        "id": "MKlN_bMMa-XX"
      },
      "outputs": [],
      "source": [
        "!pip install pandas"
      ]
    },
    {
      "cell_type": "code",
      "source": [
        "import pandas as pd\n",
        "\n",
        "print(pd. __version__)"
      ],
      "metadata": {
        "colab": {
          "base_uri": "https://localhost:8080/"
        },
        "id": "rY0DyXUzSEDu",
        "outputId": "13623359-f9ba-4ae5-d7ea-f8a86043f7d0"
      },
      "execution_count": null,
      "outputs": [
        {
          "output_type": "stream",
          "name": "stdout",
          "text": [
            "1.5.3\n"
          ]
        }
      ]
    },
    {
      "cell_type": "markdown",
      "source": [
        "# Criar"
      ],
      "metadata": {
        "id": "PpRmwrRBSIxK"
      }
    },
    {
      "cell_type": "markdown",
      "source": [
        "## Séries - 1 dimensão"
      ],
      "metadata": {
        "id": "cQL9Mse_S9l7"
      }
    },
    {
      "cell_type": "markdown",
      "source": [
        "- São equivalentes a 1 coluna de uma tabela"
      ],
      "metadata": {
        "id": "mwgA0trbWA51"
      }
    },
    {
      "cell_type": "code",
      "source": [
        "import pandas as pd\n",
        "\n",
        "lista = [10, 20, 30]\n",
        "labels = [\"x\", \"y\", \"z\"]\n",
        "\n",
        "# criar\n",
        "ser = pd.Series(lista, index = labels) # index = arg opcional\n",
        "print(ser)\n",
        "print()\n",
        "\n",
        "print(ser[0])\n",
        "print(ser[\"y\"]) # nome da coluna é indexável\n",
        "print()"
      ],
      "metadata": {
        "colab": {
          "base_uri": "https://localhost:8080/"
        },
        "id": "ryZb1yO6S_7n",
        "outputId": "f8abea50-ea2b-4a4a-a48e-f6d4b9f744a2"
      },
      "execution_count": null,
      "outputs": [
        {
          "output_type": "stream",
          "name": "stdout",
          "text": [
            "x    10\n",
            "y    20\n",
            "z    30\n",
            "dtype: int64\n",
            "\n",
            "10\n",
            "20\n",
            "\n"
          ]
        }
      ]
    },
    {
      "cell_type": "code",
      "source": [
        "import pandas as pd\n",
        "\n",
        "# cria dicionario (objeto)\n",
        "obj = {\"nome1\": \"Mauricio\", \"nome2\": \"Vitoria\", \"nome3\": \"Savanah\" }\n",
        "\n",
        "df = pd.Series(obj)\n",
        "print(df)\n",
        "print()\n",
        "\n",
        "# extrair parte\n",
        "df_2 = pd.Series(obj, index = [\"nome1\", \"nome3\"])\n",
        "print(df_2)"
      ],
      "metadata": {
        "colab": {
          "base_uri": "https://localhost:8080/"
        },
        "id": "QEEVlzDQUiMU",
        "outputId": "8578f9cf-39b6-4d25-9df4-69a248697b42"
      },
      "execution_count": null,
      "outputs": [
        {
          "output_type": "stream",
          "name": "stdout",
          "text": [
            "nome1    Mauricio\n",
            "nome2     Vitoria\n",
            "nome3     Savanah\n",
            "dtype: object\n",
            "\n",
            "nome1    Mauricio\n",
            "nome3     Savanah\n",
            "dtype: object\n"
          ]
        }
      ]
    },
    {
      "cell_type": "markdown",
      "source": [
        "## DataFrame - 2 dimensões"
      ],
      "metadata": {
        "id": "UWvpwfD3TPjN"
      }
    },
    {
      "cell_type": "markdown",
      "source": [
        "- são arrays de 2 dimensões"
      ],
      "metadata": {
        "id": "QR5g5RmAV8cR"
      }
    },
    {
      "cell_type": "code",
      "source": [
        "import pandas as pd\n",
        "\n",
        "dados = {\n",
        "    \"frutas\": [\"Banana\", \"Morango\", \"Kiwi\"],\n",
        "    \"massas\": [10, 1, 5]\n",
        "}\n",
        "\n",
        "df = pd.DataFrame(dados)\n",
        "print(df)\n",
        "print()"
      ],
      "metadata": {
        "colab": {
          "base_uri": "https://localhost:8080/"
        },
        "id": "0EZj1_w0SQfN",
        "outputId": "98174347-7c2b-4b1b-ef58-85733863fd75"
      },
      "execution_count": null,
      "outputs": [
        {
          "output_type": "stream",
          "name": "stdout",
          "text": [
            "    frutas  massas\n",
            "0   Banana      10\n",
            "1  Morango       1\n",
            "2     Kiwi       5\n",
            "\n"
          ]
        }
      ]
    }
  ]
}