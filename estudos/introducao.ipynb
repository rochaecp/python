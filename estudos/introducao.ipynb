{
  "nbformat": 4,
  "nbformat_minor": 0,
  "metadata": {
    "colab": {
      "provenance": [],
      "collapsed_sections": [
        "-LIgBuBRo3D4",
        "TeDBOeUNp348",
        "CjecoO0vp6sD",
        "dvSLvXHqp679",
        "n51nm7smskYJ",
        "ZIBwnZ9UsksY",
        "IwHxVA018tUu",
        "PB7f5Fkesk18",
        "Yho_GadGsk-I",
        "1lSi9b0DY2AM",
        "GyVa0L_fY2NP",
        "3OjaiFA2aNiK",
        "5vCRJ2Lnp6ip"
      ],
      "authorship_tag": "ABX9TyPgM7/SywU2dQxvmjgftkMd"
    },
    "kernelspec": {
      "name": "python3",
      "display_name": "Python 3"
    },
    "language_info": {
      "name": "python"
    }
  },
  "cells": [
    {
      "cell_type": "markdown",
      "source": [
        "# Tipos"
      ],
      "metadata": {
        "id": "-LIgBuBRo3D4"
      }
    },
    {
      "cell_type": "code",
      "execution_count": null,
      "metadata": {
        "colab": {
          "base_uri": "https://localhost:8080/"
        },
        "id": "Ognu9_XnozPY",
        "outputId": "37e491f7-0c58-45ff-f8aa-1d5fc1761089"
      },
      "outputs": [
        {
          "output_type": "stream",
          "name": "stdout",
          "text": [
            "<class 'float'>\n"
          ]
        }
      ],
      "source": [
        "x_int = 2\n",
        "\n",
        "x_float_1 = 10.5\n",
        "x_float_2 = 35e3\n",
        "x_float_3 = 12E4\n",
        "\n",
        "x_complex = 10j\n",
        "\n",
        "x_str = \"dez\"\n",
        "\n",
        "x_bool_1 = True\n",
        "x_bool_2 = False\n",
        "\n",
        "# x_bytes = ???\n",
        "# x_bytearray = ???\n",
        "# x_memoryview = ???\n",
        "\n",
        "print(type(x_float_1))"
      ]
    },
    {
      "cell_type": "markdown",
      "source": [
        "# Casting"
      ],
      "metadata": {
        "id": "TeDBOeUNp348"
      }
    },
    {
      "cell_type": "code",
      "source": [
        "x = 5\n",
        "\n",
        "x_int = int(x)\n",
        "x_float = float(x)\n",
        "x_str = str(x)\n",
        "x_bool = bool(x)\n",
        "x_complex = complex(x)\n",
        "\n",
        "x_binario = bin(6)[2:]\n",
        "x_binario"
      ],
      "metadata": {
        "colab": {
          "base_uri": "https://localhost:8080/",
          "height": 35
        },
        "id": "xE9ySbA-pAsD",
        "outputId": "6134958f-adfc-43c7-9d9c-6c1c76f97fef"
      },
      "execution_count": null,
      "outputs": [
        {
          "output_type": "execute_result",
          "data": {
            "text/plain": [
              "'110'"
            ],
            "application/vnd.google.colaboratory.intrinsic+json": {
              "type": "string"
            }
          },
          "metadata": {},
          "execution_count": 50
        }
      ]
    },
    {
      "cell_type": "markdown",
      "source": [
        "# Input"
      ],
      "metadata": {
        "id": "CjecoO0vp6sD"
      }
    },
    {
      "cell_type": "code",
      "source": [
        "x_str = input(\"Nome: \")\n",
        "x_int = int(input(\"Idade: \"))\n",
        "x_float = float(input(\"Salario: \"))"
      ],
      "metadata": {
        "colab": {
          "base_uri": "https://localhost:8080/"
        },
        "id": "lyvALG6mp6sE",
        "outputId": "9c31b291-7860-419f-8a45-99aacded3e3a"
      },
      "execution_count": null,
      "outputs": [
        {
          "name": "stdout",
          "output_type": "stream",
          "text": [
            "Nome: Mauricio Rocha\n",
            "Idade: 31\n"
          ]
        }
      ]
    },
    {
      "cell_type": "markdown",
      "source": [
        "# Output"
      ],
      "metadata": {
        "id": "dvSLvXHqp679"
      }
    },
    {
      "cell_type": "code",
      "source": [
        "nome = \"Mauricio\"\n",
        "idade = 31\n",
        "salario = 15340.45\n",
        "linguagens = [\"JavaScript\", \"Python\", \"C#\"]\n",
        "\n",
        "print(\"Nome: \" + nome)\n",
        "print(\"Nome \" * 3)\n",
        "print()\n",
        "\n",
        "print(\"Nome:\", nome, \"idade:\", idade)\n",
        "print(\"Idade: \" + str(idade))\n",
        "print(\"Nome = {} e Idade = {}\".format(nome, idade))\n",
        "print(\"Nome = {a} e Idade = {b}\".format(a=nome, b=idade))\n",
        "print()\n",
        "\n",
        "# float\n",
        "print(\"Salario: %i\" %salario)\n",
        "print(\"Salario: %0.2f\" %salario)\n",
        "print(\"Salario: {:.1f}\".format(salario))\n",
        "print()\n",
        "\n",
        "# listas\n",
        "print(\"Linguagens:\", linguagens)\n",
        "print(\"Linguagem 1: \" +  linguagens[0])\n",
        "print()"
      ],
      "metadata": {
        "colab": {
          "base_uri": "https://localhost:8080/"
        },
        "id": "C1BYw6sUp67-",
        "outputId": "df05360f-77cb-4426-bbb1-db2bb8233ed7"
      },
      "execution_count": null,
      "outputs": [
        {
          "output_type": "stream",
          "name": "stdout",
          "text": [
            "Nome: Mauricio\n",
            "Nome Nome Nome \n",
            "\n",
            "Nome: Mauricio idade: 31\n",
            "Idade: 31\n",
            "Nome = Mauricio e Idade = 31\n",
            "Nome = Mauricio e Idade = 31\n",
            "\n",
            "Salario: 15340\n",
            "Salario: 15340.45\n",
            "Salario: 15340.5\n",
            "\n",
            "Linguagens: ['JavaScript', 'Python', 'C#']\n",
            "Linguagem 1: JavaScript\n",
            "\n"
          ]
        }
      ]
    },
    {
      "cell_type": "markdown",
      "source": [
        "# Arredondamentos"
      ],
      "metadata": {
        "id": "n51nm7smskYJ"
      }
    },
    {
      "cell_type": "code",
      "source": [
        "from math import floor\n",
        "from math import ceil\n",
        "\n",
        "num = 15.567\n",
        "print(round(num))\n",
        "print(floor(num))\n",
        "print(ceil(num))"
      ],
      "metadata": {
        "colab": {
          "base_uri": "https://localhost:8080/"
        },
        "id": "6op18gCrskYS",
        "outputId": "e5372d17-739b-4bea-ca9d-892e73a39627"
      },
      "execution_count": null,
      "outputs": [
        {
          "output_type": "stream",
          "name": "stdout",
          "text": [
            "16\n",
            "15\n",
            "16\n"
          ]
        }
      ]
    },
    {
      "cell_type": "markdown",
      "source": [
        "# Aleatórios"
      ],
      "metadata": {
        "id": "ZIBwnZ9UsksY"
      }
    },
    {
      "cell_type": "code",
      "source": [
        "import random\n",
        "\n",
        "print(random.randrange(1, 10))"
      ],
      "metadata": {
        "colab": {
          "base_uri": "https://localhost:8080/"
        },
        "id": "T4t7L9J3sksZ",
        "outputId": "939d8526-7477-4747-dbbb-b470ef38de71"
      },
      "execution_count": null,
      "outputs": [
        {
          "output_type": "stream",
          "name": "stdout",
          "text": [
            "3\n"
          ]
        }
      ]
    },
    {
      "cell_type": "markdown",
      "source": [
        "# Math"
      ],
      "metadata": {
        "id": "IwHxVA018tUu"
      }
    },
    {
      "cell_type": "code",
      "source": [
        "import math\n",
        "\n",
        "angulo = math.pi / 6\n",
        "\n",
        "cosseno = math.cos(angulo)\n",
        "seno = math.sin(angulo)"
      ],
      "metadata": {
        "id": "nRvu2_QG8vtZ"
      },
      "execution_count": null,
      "outputs": []
    },
    {
      "cell_type": "code",
      "source": [
        "import math\n",
        "import numpy as np\n",
        "import matplotlib.pyplot as plt\n",
        "\n",
        "in_array = np.linspace(-(2 * np.pi), 2 * np.pi, 20)\n",
        "\n",
        "out_array = []\n",
        "\n",
        "for i in range(len(in_array)):\n",
        "    out_array.append(math.cos(in_array[i]))\n",
        "    i += 1\n",
        "\n",
        "plt.plot(in_array, out_array, color = 'red', marker = \"o\")\n",
        "plt.title(\"math.cos()\")\n",
        "plt.xlabel(\"X\")\n",
        "plt.ylabel(\"Y\")\n",
        "plt.show()"
      ],
      "metadata": {
        "colab": {
          "base_uri": "https://localhost:8080/",
          "height": 472
        },
        "id": "MHEM7DRc9Pcz",
        "outputId": "f2c0e54e-2326-4704-a273-2dfcad557fbe"
      },
      "execution_count": null,
      "outputs": [
        {
          "output_type": "display_data",
          "data": {
            "text/plain": [
              "<Figure size 640x480 with 1 Axes>"
            ],
            "image/png": "[encoded data removed]"
          },
          "metadata": {}
        }
      ]
    },
    {
      "cell_type": "markdown",
      "source": [
        "# Datas"
      ],
      "metadata": {
        "id": "PB7f5Fkesk18"
      }
    },
    {
      "cell_type": "code",
      "source": [
        "from datetime import date, datetime, time, timedelta\n",
        "\n",
        "# Criar\n",
        "print(date.today())\n",
        "print(date.today().strftime('%d/%m/%Y'))\n",
        "print()\n",
        "print(datetime.today())\n",
        "print(datetime.now())\n",
        "print(datetime.now().strftime('%d/%m/%Y - %H:%M:%S'))\n",
        "print()\n",
        "data_1 = datetime(2023, 6, 27, 19, 27, 30)\n",
        "print(data_1.strftime('%d/%m/%Y - %H:%M:%S'))\n",
        "print()\n",
        "\n",
        "# Extrair\n",
        "hoje = datetime.today()\n",
        "print(hoje.year)\n",
        "print(hoje.month)\n",
        "print(hoje.weekday())\n",
        "print(hoje.day)\n",
        "print()\n",
        "print(hoje.hour)\n",
        "print(hoje.minute)\n",
        "print(hoje.second)\n",
        "print()\n",
        "\n",
        "# Converter\n",
        "date_string = \"01/01/2019\"\n",
        "date_formated = datetime.strptime(date_string, \"%d/%m/%Y\")\n",
        "print(date_formated)\n",
        "print()\n",
        "\n",
        "# Exemplo\n",
        "dias_sem_tupl = (\"Seg\", \"Ter\", \"Qua\", \"Qui\", \"Sex\", \"Sab\", \"Dom\")\n",
        "print(dias_sem_tupl[hoje.weekday()])\n",
        "\n",
        "# Time\n",
        "my_time = time(hour=17, minute=11, second=30)\n",
        "my_time = time(hour=17, minute=11, second=30).strftime('%H:%M:%S')\n",
        "\n",
        "# TimeDelta\n",
        "my_date = datetime(2021, 3, 30)\n",
        "new_date = my_date - timedelta(days=365, hours=2, minutes=15)"
      ],
      "metadata": {
        "colab": {
          "base_uri": "https://localhost:8080/"
        },
        "id": "-Kar1RSvsk19",
        "outputId": "1edb47a6-5425-42d4-f55d-767ba95a676c"
      },
      "execution_count": null,
      "outputs": [
        {
          "output_type": "stream",
          "name": "stdout",
          "text": [
            "2023-06-27\n",
            "27/06/2023\n",
            "\n",
            "2023-06-27 22:33:56.095700\n",
            "2023-06-27 22:33:56.096343\n",
            "27/06/2023 - 22:33:56\n",
            "\n",
            "27/06/2023 - 19:27:30\n",
            "\n",
            "2023\n",
            "6\n",
            "1\n",
            "27\n",
            "\n",
            "22\n",
            "33\n",
            "56\n",
            "\n",
            "2019-01-01 00:00:00\n",
            "\n",
            "Ter\n"
          ]
        }
      ]
    },
    {
      "cell_type": "markdown",
      "source": [
        "# Funções"
      ],
      "metadata": {
        "id": "Yho_GadGsk-I"
      }
    },
    {
      "cell_type": "code",
      "source": [
        "# parametros default\n",
        "def myFunc(country = \"Norway\"):\n",
        "    print(\"I am from \" + country)\n",
        "myFunc()\n",
        "myFunc(\"Brazil\")\n",
        "\n",
        "# argumentos nomeados\n",
        "def myFunc(child3, child2, child1):\n",
        "    print(\"The youngest child is \" + child3)\n",
        "myFunc(child1 = \"Emil\", child2 = \"Tobias\", child3 = \"Linus\")\n",
        "\n",
        "# quantidade de parametros variavel\n",
        "def myFunc(*kids):\n",
        "    print(\"The youngest child is \" + kids[2])\n",
        "myFunc(\"Emil\", \"Tobias\", \"Linus\")\n",
        "\n",
        "def myFunc(**kid):\n",
        "    print(\"His last name is \" + kid[\"lname\"])\n",
        "myFunc(fname = \"Tobias\", lname = \"Refsnes\")\n",
        "\n",
        "# lista como parametro\n",
        "def myFunc(food):\n",
        "    for x in food:\n",
        "        print(x)\n",
        "fruits = [\"apple\", \"banana\", \"cherry\"]\n",
        "myFunc(fruits)\n",
        "\n",
        "# retornar mais de um valor\n",
        "def myFunc(a = 1, b = 2):\n",
        "    return a + b, a * b\n",
        "s, p = myFunc()\n",
        "\n",
        "# acessando variavel global\n",
        "x = 10\n",
        "def mudaNumero():\n",
        "    global x\n",
        "    x = 20\n",
        "mudaNumero()\n",
        "print(x)"
      ],
      "metadata": {
        "id": "tMEbupLNsk-J",
        "colab": {
          "base_uri": "https://localhost:8080/"
        },
        "outputId": "0eb98678-f39f-49a2-a46e-8a623152f037"
      },
      "execution_count": null,
      "outputs": [
        {
          "output_type": "stream",
          "name": "stdout",
          "text": [
            "I am from Norway\n",
            "I am from Brazil\n",
            "The youngest child is Linus\n",
            "The youngest child is Linus\n",
            "His last name is Refsnes\n",
            "apple\n",
            "banana\n",
            "cherry\n",
            "20\n"
          ]
        }
      ]
    },
    {
      "cell_type": "markdown",
      "source": [
        "# Lambda Functions"
      ],
      "metadata": {
        "id": "1lSi9b0DY2AM"
      }
    },
    {
      "cell_type": "code",
      "source": [
        "'''\n",
        "Uma função lambda é uma função anônima.\n",
        "Pode ter muitos argumentos mas apenas uma expressão\n",
        "Sintaxe: lambda argumentos : expressão\n",
        "'''\n",
        "\n",
        "my_sum = lambda a, b: a + b\n",
        "x = my_sum(5, 10)\n",
        "\n",
        "square = lambda a: a ** 2\n",
        "x = square(9)\n",
        "\n",
        "min = lambda a, b: a if a < b else b\n",
        "x = min(10, 20)\n",
        "\n",
        "def myfunc(n):\n",
        "    return lambda a : a * n\n",
        "\n",
        "mydoubler = myfunc(2)\n",
        "print(mydoubler(11))\n",
        "\n",
        "letter_counter = lambda my_list: [len(x) for x in my_list] # output == list\n",
        "my_list_animais = [\"dog\", \"cat\", \"horse\"]\n",
        "print(letter_counter(my_list_animais))\n",
        "\n",
        "# Calculadora com dicionários:\n",
        "my_dict = {\n",
        "    'my_sum': lambda a, b: a + b,\n",
        "    'subtraction': lambda a, b: a - b,\n",
        "    'multiplication': lambda a, b: a * b,\n",
        "    'division': lambda a, b: a / b,\n",
        "}\n",
        "my_sum = my_dict['my_sum']\n",
        "my_mult = my_dict['multiplication']\n",
        "print(type(my_dict))\n",
        "print(my_sum(10, 5))\n",
        "print(my_mult(10, 5))\n",
        "\n",
        "# Ordenação com dicionários\n",
        "my_list = {1: 2, 3: 4, 4: 3, 2: 1, 0: 0}\n",
        "my_ordered_list = {k: v for k, v in sorted(my_list.items(), key=lambda item: item[1])}\n",
        "print(my_ordered_list)"
      ],
      "metadata": {
        "id": "lyS88OUsY2AN"
      },
      "execution_count": null,
      "outputs": []
    },
    {
      "cell_type": "markdown",
      "source": [
        "# Arquivos"
      ],
      "metadata": {
        "id": "GyVa0L_fY2NP"
      }
    },
    {
      "cell_type": "code",
      "source": [
        "# Escrevendo e atualizando arquivos de texto\n",
        "def write_file(name_file, txt):\n",
        "    my_file = open(name_file, \"w\")\n",
        "    my_file.write(txt)\n",
        "    my_file.close()\n",
        "\n",
        "def change_file(name_file, txt):\n",
        "    my_file = open(name_file, \"a\")\n",
        "    my_file.write(txt)\n",
        "    my_file.close()\n",
        "\n",
        "if __name__ == \"__main__\":\n",
        "    change_file(\"my txt\\n\")"
      ],
      "metadata": {
        "id": "YbcSqj8-Y2NR"
      },
      "execution_count": null,
      "outputs": []
    },
    {
      "cell_type": "code",
      "source": [
        "# Lendo arquivos de texto\n",
        "def le_my_file(name_file):\n",
        "    my_file = open(name_file, \"r\")\n",
        "    txt = my_file.read()\n",
        "    linhas = txt.split(\"\\n\")\n",
        "    print(linhas[0])\n",
        "    print(linhas[-1])\n",
        "\n",
        "if __name__ == \"__main__\":\n",
        "    le_my_file(\"notes.txt\")"
      ],
      "metadata": {
        "id": "73iBRXmPaYsw"
      },
      "execution_count": null,
      "outputs": []
    },
    {
      "cell_type": "code",
      "source": [
        "# Copiando um arquivo\n",
        "import shutil    # biblioteca\n",
        "def copy_my_file(name_file):\n",
        "    shutil.copy(name_file, \"./example\") # copy o my_file para o diretorio example, renameando: ./example/novoname\n",
        "\n",
        "if __name__ == \"__main__\":\n",
        "    copy_my_file(\"notes.txt\")"
      ],
      "metadata": {
        "id": "EDpo55juaaJd"
      },
      "execution_count": null,
      "outputs": []
    },
    {
      "cell_type": "code",
      "source": [
        "# Movendo um arquivo\n",
        "import shutil    # biblioteca\n",
        "def move_my_file(name_file):\n",
        "    shutil.move(name_file, \"./example\")\n",
        "\n",
        "if __name__ == \"__main__\":\n",
        "    move_my_file(\"notes.txt\")"
      ],
      "metadata": {
        "id": "dtpyxnIAaZ5f"
      },
      "execution_count": null,
      "outputs": []
    },
    {
      "cell_type": "markdown",
      "source": [
        "# Exceptions"
      ],
      "metadata": {
        "id": "3OjaiFA2aNiK"
      }
    },
    {
      "cell_type": "code",
      "source": [
        "my_list = [1, 10]\n",
        "\n",
        "try:\n",
        "    #division = 10 / 0\n",
        "    #x = my_list[2]\n",
        "    x = a #\n",
        "except ZeroDivisionError:\n",
        "    print(\"Impossível dividir por zero\")\n",
        "except IndexError:\n",
        "    print(\"Indice inválido\")\n",
        "except BaseException as ex:\n",
        "    print(\"Unknown error. Error: {}\".format(ex))\n",
        "else:\n",
        "    print(\"Code executed when there is no exception.\")\n",
        "finally:\n",
        "    print(\"Excerpt that is always performed. Good to insert the .close () file here \")"
      ],
      "metadata": {
        "id": "UXC51gFiaNiL"
      },
      "execution_count": null,
      "outputs": []
    },
    {
      "cell_type": "code",
      "source": [
        "# Exceção personalizada\n",
        "class Error(Exception):\n",
        "    pass\n",
        "\n",
        "class InputError(Error):\n",
        "    def __init__(self, message):\n",
        "        self.message = message\n",
        "\n",
        "while True:\n",
        "    try:\n",
        "        x = int(input(\"Digite um número entre 0 e 10 \"))\n",
        "        if x > 10:\n",
        "            raise InputError(\"Valor não pode ser maior do que 10 \")\n",
        "        elif x < 0:\n",
        "            raise InputError(\"Valor não pode ser menor do que 0 \")\n",
        "        break\n",
        "    except ValueError:\n",
        "        print(\"Valor inválido. Digite apenas números \")\n",
        "    except InputError as ex:\n",
        "        print(ex)"
      ],
      "metadata": {
        "id": "k80ZkJZFanQu"
      },
      "execution_count": null,
      "outputs": []
    },
    {
      "cell_type": "markdown",
      "source": [
        "# Diversos"
      ],
      "metadata": {
        "id": "5vCRJ2Lnp6ip"
      }
    },
    {
      "cell_type": "code",
      "source": [
        "# algumas atribuições\n",
        "x = y = z = \"Orange\"\n",
        "x, y, z = \"Orange\", \"Banana\", \"Cherry\"\n",
        "\n",
        "# Unpack de uma lista\n",
        "fruits = [\"apple\", \"banana\", \"cherry\"]\n",
        "x, y, z = fruits\n",
        "\n",
        "# Operador ternario\n",
        "a = 10\n",
        "b = 5\n",
        "min = a if a < b else b\n",
        "print(\"a\") if a > b else print(\"b\")\n",
        "print(\"a\") if a > b else print(\"a igual a b\") if a == b else print(\"b\")\n",
        "\n",
        "# Eval\n",
        "print(eval(\"2 + 2 * 3\"))\n",
        "\n",
        "# pass\n",
        "if b > a:\n",
        "    pass\n"
      ],
      "metadata": {
        "colab": {
          "base_uri": "https://localhost:8080/"
        },
        "id": "-KAbfjHKp6iq",
        "outputId": "7e844dd2-019e-4537-e418-1d42207aa35a"
      },
      "execution_count": null,
      "outputs": [
        {
          "output_type": "stream",
          "name": "stdout",
          "text": [
            "a\n",
            "a\n",
            "8\n",
            "I am from Norway\n",
            "I am from Brazil\n"
          ]
        }
      ]
    }
  ]
}