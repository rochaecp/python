{
  "nbformat": 4,
  "nbformat_minor": 0,
  "metadata": {
    "colab": {
      "provenance": [],
      "collapsed_sections": [
        "9r48NvfXa5Tx",
        "M_9976rua77c",
        "zBn88mLfkf-w",
        "d4i1qscbkTmN"
      ],
      "authorship_tag": "ABX9TyMLEV9Hbq5riBO7yKwfgARi"
    },
    "kernelspec": {
      "name": "python3",
      "display_name": "Python 3"
    },
    "language_info": {
      "name": "python"
    }
  },
  "cells": [
    {
      "cell_type": "markdown",
      "source": [
        "# Modulos"
      ],
      "metadata": {
        "id": "9r48NvfXa5Tx"
      }
    },
    {
      "cell_type": "markdown",
      "source": [
        "- Cada arquivo .py é um módulo.\n",
        "- Em um módulo podemos ter diversas classes.\n",
        "- Uma classe não precisa possuir o mesmo nome do módulo que a contém.\n",
        "- Importamos módulos omitindo a extensão .py."
      ],
      "metadata": {
        "id": "GXOL-5xtbI-S"
      }
    },
    {
      "cell_type": "markdown",
      "source": [
        "# Classes"
      ],
      "metadata": {
        "id": "M_9976rua77c"
      }
    },
    {
      "cell_type": "markdown",
      "source": [
        "- A função __init__() é chamada sempre que uma classe é instanciada (usar como método construtor)\n",
        "- O parâmetro self referencia a instância corrente da classe e é usado para acessar variáveis que pertencem à classe"
      ],
      "metadata": {
        "id": "T7iildgAkr2O"
      }
    },
    {
      "cell_type": "markdown",
      "source": [
        "# Classe Pessoa"
      ],
      "metadata": {
        "id": "zBn88mLfkf-w"
      }
    },
    {
      "cell_type": "code",
      "source": [
        "class Pessoa:\n",
        "    def __init__(self, nome, idade):\n",
        "        self.nome = nome\n",
        "        self.idade = idade\n",
        "    def dizOla(self):\n",
        "        print(\"Ola, meu nome eh \" + self.nome + \" e tenho \" + str(self.idade))"
      ],
      "metadata": {
        "id": "tybo3Z4NkRAP"
      },
      "execution_count": null,
      "outputs": []
    },
    {
      "cell_type": "code",
      "source": [
        "p1 = Pessoa(\"Mauricio\", 31)\n",
        "p1.dizOla()"
      ],
      "metadata": {
        "colab": {
          "base_uri": "https://localhost:8080/"
        },
        "id": "B1RLx1taltd8",
        "outputId": "93bebbce-9699-4d11-b99c-9d43c5d16328"
      },
      "execution_count": null,
      "outputs": [
        {
          "output_type": "stream",
          "name": "stdout",
          "text": [
            "Ola, meu nome eh Mauricio e tenho 31\n"
          ]
        }
      ]
    },
    {
      "cell_type": "code",
      "source": [
        "p1.idade = 32\n",
        "p1.dizOla()"
      ],
      "metadata": {
        "colab": {
          "base_uri": "https://localhost:8080/"
        },
        "id": "_dvxIPGyml5z",
        "outputId": "9e9027af-70e5-400f-fefa-4c9f7c56ac86"
      },
      "execution_count": null,
      "outputs": [
        {
          "output_type": "stream",
          "name": "stdout",
          "text": [
            "Ola, meu nome eh Mauricio e tenho 32\n"
          ]
        }
      ]
    },
    {
      "cell_type": "code",
      "source": [
        "del p1.idade # deletar propriedade\n",
        "del p1 # deletar objeto"
      ],
      "metadata": {
        "id": "M7McujM7nbIn"
      },
      "execution_count": null,
      "outputs": []
    },
    {
      "cell_type": "markdown",
      "source": [
        "# Classe Television"
      ],
      "metadata": {
        "id": "d4i1qscbkTmN"
      }
    },
    {
      "cell_type": "code",
      "execution_count": null,
      "metadata": {
        "id": "GxpWNMUxa1yw"
      },
      "outputs": [],
      "source": [
        "class Television:\n",
        "    def __init__(self):\n",
        "        self.ligada = False\n",
        "        self.canal = 5\n",
        "    def power(self):\n",
        "        if self.ligada == True:\n",
        "            self.ligada = False\n",
        "        else:\n",
        "            self.ligada = True\n",
        "    def increase_channel(self):\n",
        "        if self.ligada:\n",
        "            self.canal += 1"
      ]
    },
    {
      "cell_type": "code",
      "execution_count": null,
      "metadata": {
        "id": "SyyrAMZQa77d",
        "colab": {
          "base_uri": "https://localhost:8080/"
        },
        "outputId": "1c80ec71-0500-4e58-e92f-d07f189fcf7c"
      },
      "outputs": [
        {
          "output_type": "stream",
          "name": "stdout",
          "text": [
            "Ligada: False, Canal: 5\n",
            "Ligada: True, Canal: 5\n",
            "Ligada: True, Canal: 6\n"
          ]
        }
      ],
      "source": [
        "tv = Television()\n",
        "print(\"Ligada: \" + str(tv.ligada) + \", Canal: \" + str(tv.canal))\n",
        "\n",
        "tv.power()\n",
        "print(\"Ligada: \" + str(tv.ligada) + \", Canal: \" + str(tv.canal))\n",
        "\n",
        "tv.increase_channel()\n",
        "print(\"Ligada: \" + str(tv.ligada) + \", Canal: \" + str(tv.canal))"
      ]
    },
    {
      "cell_type": "markdown",
      "source": [
        "# T"
      ],
      "metadata": {
        "id": "n792iqyga8EG"
      }
    },
    {
      "cell_type": "code",
      "execution_count": null,
      "metadata": {
        "id": "BnoPTp5oa8EH"
      },
      "outputs": [],
      "source": []
    },
    {
      "cell_type": "markdown",
      "source": [
        "# T"
      ],
      "metadata": {
        "id": "EcSn_uM0a8Lx"
      }
    },
    {
      "cell_type": "code",
      "execution_count": null,
      "metadata": {
        "id": "4mz5usP0a8Lx"
      },
      "outputs": [],
      "source": []
    },
    {
      "cell_type": "markdown",
      "source": [
        "# T"
      ],
      "metadata": {
        "id": "Ywyy8DWOa8Qr"
      }
    },
    {
      "cell_type": "code",
      "execution_count": null,
      "metadata": {
        "id": "-67bxDH1a8Qs"
      },
      "outputs": [],
      "source": []
    },
    {
      "cell_type": "markdown",
      "source": [
        "# T"
      ],
      "metadata": {
        "id": "-w39otcca8Wq"
      }
    },
    {
      "cell_type": "code",
      "execution_count": null,
      "metadata": {
        "id": "dmZgrT6Sa8Wq"
      },
      "outputs": [],
      "source": []
    },
    {
      "cell_type": "markdown",
      "source": [
        "# T"
      ],
      "metadata": {
        "id": "B16aVQX2a8aq"
      }
    },
    {
      "cell_type": "code",
      "execution_count": null,
      "metadata": {
        "id": "B-hLkAbfa8ar"
      },
      "outputs": [],
      "source": []
    },
    {
      "cell_type": "markdown",
      "source": [
        "# T"
      ],
      "metadata": {
        "id": "bzKoOECta8eI"
      }
    },
    {
      "cell_type": "code",
      "execution_count": null,
      "metadata": {
        "id": "a75W6hLea8eJ"
      },
      "outputs": [],
      "source": []
    },
    {
      "cell_type": "markdown",
      "source": [
        "# T"
      ],
      "metadata": {
        "id": "Zp6PmMWXa8hW"
      }
    },
    {
      "cell_type": "code",
      "execution_count": null,
      "metadata": {
        "id": "02NfifJxa8hY"
      },
      "outputs": [],
      "source": []
    },
    {
      "cell_type": "markdown",
      "source": [
        "# T"
      ],
      "metadata": {
        "id": "U-7yCKp7a8kk"
      }
    },
    {
      "cell_type": "code",
      "execution_count": null,
      "metadata": {
        "id": "nOeXxtdea8kl"
      },
      "outputs": [],
      "source": []
    },
    {
      "cell_type": "markdown",
      "source": [
        "# T"
      ],
      "metadata": {
        "id": "8ML8Zpq8a8n-"
      }
    },
    {
      "cell_type": "code",
      "execution_count": null,
      "metadata": {
        "id": "1basIdHha8n_"
      },
      "outputs": [],
      "source": []
    }
  ]
}