{
  "nbformat": 4,
  "nbformat_minor": 0,
  "metadata": {
    "colab": {
      "provenance": [],
      "gpuType": "T4",
      "collapsed_sections": [
        "G67O03pDgAIl",
        "pjf6MR5UiDQu",
        "X-H2dfi4jpsl",
        "Wc5m2NAjkSKv",
        "FDvdu7V0kya2",
        "pGieXL9Jk6Tc",
        "5j9KIGAtk6Qq",
        "_t2xey7pr9tq",
        "xkE1_bi7sjt7",
        "XzpZHlr8wyB4",
        "2JzbPKy4AFft"
      ]
    },
    "kernelspec": {
      "name": "python3",
      "display_name": "Python 3"
    },
    "language_info": {
      "name": "python"
    },
    "accelerator": "GPU"
  },
  "cells": [
    {
      "cell_type": "markdown",
      "source": [
        "# PyTorch\n",
        "\n",
        "- Documentação: https://pytorch.org/tutorials/\n",
        "- Documentação / tensores: https://pytorch.org/docs/stable/tensors.html"
      ],
      "metadata": {
        "id": "hn6DOzjhg_n-"
      }
    },
    {
      "cell_type": "markdown",
      "source": [
        "# Converter listas em tensores"
      ],
      "metadata": {
        "id": "G67O03pDgAIl"
      }
    },
    {
      "cell_type": "code",
      "execution_count": null,
      "metadata": {
        "colab": {
          "base_uri": "https://localhost:8080/"
        },
        "id": "vDDikrgyfdH2",
        "outputId": "bd6a4759-d43d-42d6-8bdf-583553ad230c"
      },
      "outputs": [
        {
          "output_type": "stream",
          "name": "stdout",
          "text": [
            "torch.float32\n",
            "tensor([[1., 2., 3.],\n",
            "        [3., 4., 5.]])\n",
            "torch.float32\n",
            "tensor([[1., 2., 3.],\n",
            "        [3., 4., 5.]])\n",
            "torch.float64\n",
            "tensor([[1., 2., 3.],\n",
            "        [3., 4., 5.]], dtype=torch.float64)\n",
            "torch.int64\n",
            "tensor([[1, 2, 3],\n",
            "        [3, 4, 5]])\n"
          ]
        }
      ],
      "source": [
        "import torch\n",
        "import numpy as np\n",
        "\n",
        "lista = [[1, 2, 3],\n",
        "         [3, 4, 5]]\n",
        "\n",
        "# Converter para o formato default (float)\n",
        "tensor = torch.Tensor(lista)\n",
        "print(tensor.dtype)\n",
        "print(tensor)\n",
        "\n",
        "# Converter explicitamente para o formato float\n",
        "tensor = torch.FloatTensor(lista)\n",
        "print(tensor.dtype)\n",
        "print(tensor)\n",
        "\n",
        "# Converter para o formato double\n",
        "tensor = torch.DoubleTensor(lista)\n",
        "print(tensor.dtype)\n",
        "print(tensor)\n",
        "\n",
        "# Converter para o formato long (para usar com inteiros)\n",
        "tensor = torch.LongTensor(lista)\n",
        "print(tensor.dtype)\n",
        "print(tensor)"
      ]
    },
    {
      "cell_type": "markdown",
      "source": [
        "# Converter Arrays Numpy em Tensores\n",
        "\n",
        "- Preserva o tipo do array"
      ],
      "metadata": {
        "id": "pjf6MR5UiDQu"
      }
    },
    {
      "cell_type": "code",
      "source": [
        "arr = np.random.rand(3,4)\n",
        "tensor = torch.from_numpy(arr)\n",
        "\n",
        "print(arr)\n",
        "print(arr.dtype)\n",
        "\n",
        "print(tensor)\n",
        "print(tensor.dtype)\n",
        "\n",
        "# testando com um array inteiro\n",
        "arr_int = arr.astype(int)\n",
        "tensor_int = torch.from_numpy(arr_int)\n",
        "print(tensor_int)\n",
        "print(tensor_int.dtype)"
      ],
      "metadata": {
        "colab": {
          "base_uri": "https://localhost:8080/"
        },
        "id": "56zAW01sh-v6",
        "outputId": "2171f49f-926e-4ef9-8ccf-7e80eb926bfd"
      },
      "execution_count": null,
      "outputs": [
        {
          "output_type": "stream",
          "name": "stdout",
          "text": [
            "[[0.44180622 0.62733002 0.03055699 0.81363674]\n",
            " [0.85378284 0.50713798 0.6485855  0.23013855]\n",
            " [0.61419776 0.52123903 0.65382318 0.928455  ]]\n",
            "float64\n",
            "tensor([[0.4418, 0.6273, 0.0306, 0.8136],\n",
            "        [0.8538, 0.5071, 0.6486, 0.2301],\n",
            "        [0.6142, 0.5212, 0.6538, 0.9285]], dtype=torch.float64)\n",
            "torch.float64\n",
            "tensor([[0, 0, 0, 0],\n",
            "        [0, 0, 0, 0],\n",
            "        [0, 0, 0, 0]])\n",
            "torch.int64\n"
          ]
        }
      ]
    },
    {
      "cell_type": "markdown",
      "source": [
        "# Criar Tensores"
      ],
      "metadata": {
        "id": "X-H2dfi4jpsl"
      }
    },
    {
      "cell_type": "code",
      "source": [
        "# criar tensores com valroes preenchidos\n",
        "tensor1 = torch.ones(2, 3) # tensor 2 x 3 com 1\n",
        "tensor0 = torch.zeros(4, 5) # tensor 4 x 5 com zeros\n",
        "tensor = torch.randn(5) # tensor 1 dimensão\n",
        "tensorr = torch.randn(3, 3) # tensor com valroes aleatórios a partir de uma distrib normal\n",
        "\n",
        "print(tensor1)\n",
        "print(tensor0)\n",
        "print(tensor)\n",
        "print(tensorr)\n",
        "\n",
        "# criar tensores inserindo valores manualmente\n",
        "tensor_a = torch.tensor(2) # cria tensor com valor 2\n",
        "tensor_b = torch.tensor(1) # cria tensor com valor 1\n",
        "print(tensor_a)\n",
        "print(tensor_b)"
      ],
      "metadata": {
        "colab": {
          "base_uri": "https://localhost:8080/"
        },
        "id": "MyciEztZiASK",
        "outputId": "1a1f2ce6-64ca-4bd9-da37-3cedf7761ce6"
      },
      "execution_count": null,
      "outputs": [
        {
          "output_type": "stream",
          "name": "stdout",
          "text": [
            "tensor([[1., 1., 1.],\n",
            "        [1., 1., 1.]])\n",
            "tensor([[0., 0., 0., 0., 0.],\n",
            "        [0., 0., 0., 0., 0.],\n",
            "        [0., 0., 0., 0., 0.],\n",
            "        [0., 0., 0., 0., 0.]])\n",
            "tensor([-1.1615,  0.4233, -0.5687,  0.0438,  0.4313])\n",
            "tensor([[ 0.8810,  1.4079,  0.7375],\n",
            "        [ 0.5621, -0.0921, -2.0646],\n",
            "        [ 0.5737,  1.0576, -0.9714]])\n",
            "tensor(2)\n",
            "tensor(1)\n"
          ]
        }
      ]
    },
    {
      "cell_type": "markdown",
      "source": [
        "# Converter tensor em array Numpy"
      ],
      "metadata": {
        "id": "Wc5m2NAjkSKv"
      }
    },
    {
      "cell_type": "code",
      "source": [
        "arr = tensorr.data.numpy()\n",
        "print(arr)\n",
        "print(type(arr))"
      ],
      "metadata": {
        "colab": {
          "base_uri": "https://localhost:8080/"
        },
        "id": "1vWgK2KukW8r",
        "outputId": "9d06b37b-f296-4c1e-b794-4fb8e619542a"
      },
      "execution_count": null,
      "outputs": [
        {
          "output_type": "stream",
          "name": "stdout",
          "text": [
            "[[ 0.10417994 -0.63135374  0.5973632 ]\n",
            " [ 0.14658977 -2.1594198  -0.46093678]\n",
            " [ 1.3157661  -0.5733688   0.07517192]]\n",
            "<class 'numpy.ndarray'>\n"
          ]
        }
      ]
    },
    {
      "cell_type": "markdown",
      "source": [
        "# Indexação\n",
        "\n",
        "- Alterando elementos\n",
        "- Acessa partes do tensor como no numpy\n",
        "- Acessando fatias do tensor"
      ],
      "metadata": {
        "id": "FDvdu7V0kya2"
      }
    },
    {
      "cell_type": "code",
      "source": [
        "print(tensorr)\n",
        "print()\n",
        "\n",
        "tensorr[0, 2] = -10 # altera tensor na linha 0 coluna 2\n",
        "print(tensorr)\n",
        "print()\n",
        "\n",
        "# indexando um único elemento (também será um tensor)\n",
        "print(tensorr[0, 0])\n",
        "print(tensorr[0, 0].size()) # possui zero dimensões\n",
        "print()\n",
        "\n",
        "# acessando fatia do tensor\n",
        "print(tensorr[0:2]) # printa as linahs 0 e 1\n",
        "print()\n",
        "print(tensorr[:, 2]) # printa todas as linhas da coluna 2\n",
        "\n"
      ],
      "metadata": {
        "colab": {
          "base_uri": "https://localhost:8080/"
        },
        "id": "05wahuU1k5oN",
        "outputId": "c30f31a8-ff05-4021-93ce-db61db1af897"
      },
      "execution_count": null,
      "outputs": [
        {
          "output_type": "stream",
          "name": "stdout",
          "text": [
            "tensor([[ 0.1042, -0.6314,  0.5974],\n",
            "        [ 0.1466, -2.1594, -0.4609],\n",
            "        [ 1.3158, -0.5734,  0.0752]])\n",
            "\n",
            "tensor([[  0.1042,  -0.6314, -10.0000],\n",
            "        [  0.1466,  -2.1594,  -0.4609],\n",
            "        [  1.3158,  -0.5734,   0.0752]])\n",
            "\n",
            "tensor(0.1042)\n",
            "torch.Size([])\n",
            "\n",
            "tensor([[  0.1042,  -0.6314, -10.0000],\n",
            "        [  0.1466,  -2.1594,  -0.4609]])\n",
            "\n",
            "tensor([-10.0000,  -0.4609,   0.0752])\n"
          ]
        }
      ]
    },
    {
      "cell_type": "markdown",
      "source": [
        "# Operações com Tensores"
      ],
      "metadata": {
        "id": "pGieXL9Jk6Tc"
      }
    },
    {
      "cell_type": "code",
      "source": [
        "tensorA = torch.rand(2, 3)\n",
        "print(tensorA)\n",
        "print()\n",
        "\n",
        "tensorB = torch.rand(2, 3)\n",
        "print(tensorB)\n",
        "print()\n",
        "\n",
        "# somar\n",
        "print(tensorA + tensorB)\n",
        "print()\n",
        "\n",
        "# multiplicar (ponto a ponto)\n",
        "print(tensorA * tensorB)\n",
        "print()\n",
        "\n",
        "# dividir\n",
        "print(tensorA / tensorB)\n",
        "print()\n",
        "\n",
        "# produto interno 2D (multiplicação de matrizes \"tradicional\")\n",
        "tensor_a = torch.randn(2, 3)\n",
        "tensor_b = torch.randn(3, 1)\n",
        "print(torch.mm(tensor_a, tensor_b))\n"
      ],
      "metadata": {
        "colab": {
          "base_uri": "https://localhost:8080/"
        },
        "id": "dD8gGW9Dk5lP",
        "outputId": "d20ecc45-1735-45df-aab5-acead6976f41"
      },
      "execution_count": null,
      "outputs": [
        {
          "output_type": "stream",
          "name": "stdout",
          "text": [
            "tensor([[0.0709, 0.9174, 0.3100],\n",
            "        [0.6108, 0.7856, 0.5949]])\n",
            "\n",
            "tensor([[0.1702, 0.1611, 0.5411],\n",
            "        [0.1942, 0.4165, 0.8249]])\n",
            "\n",
            "tensor([[0.2411, 1.0785, 0.8511],\n",
            "        [0.8050, 1.2022, 1.4198]])\n",
            "\n",
            "tensor([[0.0121, 0.1478, 0.1678],\n",
            "        [0.1186, 0.3272, 0.4907]])\n",
            "\n",
            "tensor([[0.4167, 5.6946, 0.5730],\n",
            "        [3.1445, 1.8861, 0.7212]])\n",
            "\n",
            "tensor([[ 0.9727],\n",
            "        [-0.1111]])\n"
          ]
        }
      ]
    },
    {
      "cell_type": "markdown",
      "source": [
        "# Algumas funções úteis\n",
        "\n",
        "- size(): tamanho do tensor\n",
        "- view():\n",
        "  - parâmetro -1: achatar\n",
        "- shape()"
      ],
      "metadata": {
        "id": "5j9KIGAtk6Qq"
      }
    },
    {
      "cell_type": "markdown",
      "source": [],
      "metadata": {
        "id": "N8lGK3Pxk6MZ"
      }
    },
    {
      "cell_type": "code",
      "source": [
        "print(tensor1.shape)\n",
        "print(tensor1.shape[0]) # dimensão\n",
        "print()\n",
        "\n",
        "print(tensor1.size())\n",
        "print(tensor1.size(0))\n",
        "print()\n",
        "\n",
        "print(tensor1.view)\n",
        "print()\n",
        "\n",
        "# redimensionar o tensor\n",
        "tensor3d = torch.randn(2, 2, 3)\n",
        "print(tensor3d)\n",
        "print()\n",
        "print(tensor3d.view(12)) # redimensiona\n",
        "print(tensor3d.view(tensor3d.size(0), -1)) # mantém a primeira dimensão e achata o restante"
      ],
      "metadata": {
        "id": "3aFqvb-Wk5iV"
      },
      "execution_count": null,
      "outputs": []
    },
    {
      "cell_type": "markdown",
      "source": [
        "\n",
        "# GPU Cast\n",
        "\n",
        "- Incluir GPU no Collab:\n",
        "  - Editar -> Configurações do Notebook\n",
        "- É de extrema importância  "
      ],
      "metadata": {
        "id": "tyh_0Dnkk3np"
      }
    },
    {
      "cell_type": "code",
      "source": [
        "tensor = torch.randn(10)\n",
        "print(tensor)\n",
        "\n",
        "# verifica se gpu está disponível\n",
        "if torch.cuda.is_available():\n",
        "    device = torch.device('cuda')\n",
        "else:\n",
        "    device = torch.device('cpu')\n",
        "\n",
        "print(device)\n",
        "\n",
        "# jogar informações na gpu\n",
        "tensor = tensor.to(device)\n",
        "print(tensor)"
      ],
      "metadata": {
        "id": "A-QximLGk5ev"
      },
      "execution_count": null,
      "outputs": []
    },
    {
      "cell_type": "markdown",
      "source": [
        "# Concatenar tensores"
      ],
      "metadata": {
        "id": "_t2xey7pr9tq"
      }
    },
    {
      "cell_type": "code",
      "source": [
        "tensor_a = torch.randn(3)\n",
        "tensor_b = torch.randn(3)\n",
        "\n",
        "tensor_out = torch.cat( (tensor_a, tensor_b), dim=0 )\n",
        "print(tensor_out)"
      ],
      "metadata": {
        "colab": {
          "base_uri": "https://localhost:8080/"
        },
        "id": "_Lys6M8Jk5Y6",
        "outputId": "f1155883-141e-4424-861d-341f8cb3af6a"
      },
      "execution_count": null,
      "outputs": [
        {
          "output_type": "stream",
          "name": "stdout",
          "text": [
            "tensor([-0.2708, -0.4774,  1.5121,  0.2267, -0.9866, -1.5532])\n"
          ]
        }
      ]
    },
    {
      "cell_type": "markdown",
      "source": [
        "# Outras funções úteis\n",
        "\n",
        "- torch.squeeze(): remove uns\n",
        "- torch.unsqueeze(): adiciona uns"
      ],
      "metadata": {
        "id": "xkE1_bi7sjt7"
      }
    },
    {
      "cell_type": "code",
      "source": [
        "# TODO"
      ],
      "metadata": {
        "id": "kZcdt3PPwv05"
      },
      "execution_count": null,
      "outputs": []
    },
    {
      "cell_type": "markdown",
      "source": [
        "# Exemplos"
      ],
      "metadata": {
        "id": "XzpZHlr8wyB4"
      }
    },
    {
      "cell_type": "code",
      "source": [
        "import torch\n",
        "tns = torch.randn(9, 12)\n",
        "print(tns)\n",
        "print()\n",
        "\n",
        "tns1 = tns[0:5, 0:4]\n",
        "print(tns1)\n",
        "print()\n",
        "\n",
        "tns2 = tns[5:, 4:]\n",
        "print(tns2)\n",
        "print()\n",
        "\n",
        "resultado = torch.mm(tns1, tns2)\n",
        "print(resultado.size())"
      ],
      "metadata": {
        "colab": {
          "base_uri": "https://localhost:8080/"
        },
        "id": "gk8EjXNhk5Io",
        "outputId": "f345f955-a360-42a4-de22-b2a70d9ef5b5"
      },
      "execution_count": null,
      "outputs": [
        {
          "output_type": "stream",
          "name": "stdout",
          "text": [
            "tensor([[-0.5794, -1.9845,  1.4440,  0.4324,  1.1529,  0.7578, -0.0297, -0.2358,\n",
            "         -0.8869,  1.4689,  0.7692, -1.3842],\n",
            "        [ 0.9975, -0.1892, -1.4107, -0.1504, -1.6776, -0.4909, -0.2944,  0.3221,\n",
            "         -1.9986, -1.5093, -1.1030, -0.0552],\n",
            "        [ 0.3815, -0.0297,  0.9689, -0.0515, -1.7416, -0.6366, -0.0495,  0.5603,\n",
            "          0.1199, -1.4405,  0.9648, -1.1838],\n",
            "        [ 1.7911, -0.6993, -0.0877,  0.1132, -0.0217,  1.3930, -0.1467, -1.1970,\n",
            "         -0.9997, -1.3253,  1.8491, -0.4106],\n",
            "        [-0.7146, -1.3468, -3.1704, -0.3383,  0.1341,  0.3317,  1.3199, -0.7033,\n",
            "          0.9823,  0.7010,  1.2923, -1.4104],\n",
            "        [-1.8315,  2.0357,  0.6725,  0.2561,  1.1053, -0.5597, -1.6123, -1.6292,\n",
            "          1.1826, -1.6079, -0.3023,  1.7509],\n",
            "        [-1.8460,  2.7600, -0.1240, -0.1446,  0.3221, -0.2856,  1.0385,  1.8073,\n",
            "         -0.5819, -0.8286,  0.7924, -2.9741],\n",
            "        [ 1.6003, -0.8894, -1.1472, -0.4915,  0.4938,  0.3621, -1.3275,  0.9683,\n",
            "          0.9405,  0.4907,  0.1717,  1.2410],\n",
            "        [-0.0717, -0.5198,  1.7156,  2.0748, -0.2606, -0.1177,  0.1043, -0.9812,\n",
            "         -0.9979,  0.3679,  0.9638, -1.2651]])\n",
            "\n",
            "tensor([[-0.5794, -1.9845,  1.4440,  0.4324],\n",
            "        [ 0.9975, -0.1892, -1.4107, -0.1504],\n",
            "        [ 0.3815, -0.0297,  0.9689, -0.0515],\n",
            "        [ 1.7911, -0.6993, -0.0877,  0.1132],\n",
            "        [-0.7146, -1.3468, -3.1704, -0.3383]])\n",
            "\n",
            "tensor([[ 1.1053, -0.5597, -1.6123, -1.6292,  1.1826, -1.6079, -0.3023,  1.7509],\n",
            "        [ 0.3221, -0.2856,  1.0385,  1.8073, -0.5819, -0.8286,  0.7924, -2.9741],\n",
            "        [ 0.4938,  0.3621, -1.3275,  0.9683,  0.9405,  0.4907,  0.1717,  1.2410],\n",
            "        [-0.2606, -0.1177,  0.1043, -0.9812, -0.9979,  0.3679,  0.9638, -1.2651]])\n",
            "\n",
            "torch.Size([5, 8])\n"
          ]
        }
      ]
    },
    {
      "cell_type": "markdown",
      "source": [
        "# Exercício\n",
        "\n",
        "- Crie um tensor aleatório tns1 com a dimensionalidade 7 x 7 x 3 e um outro tensor aleatório tns2 de 147 x 1. Modificando apenas tns1 some os dois tensores."
      ],
      "metadata": {
        "id": "2JzbPKy4AFft"
      }
    },
    {
      "cell_type": "code",
      "source": [
        "import torch\n",
        "\n",
        "tns1 = torch.randn(7, 7, 3)\n",
        "tns2 = torch.randn(147, 1)\n",
        "\n",
        "tns1_modific = tns1.view(-1, 1) # achata o tensor\n",
        "print(tns1_modific + tns2)"
      ],
      "metadata": {
        "colab": {
          "base_uri": "https://localhost:8080/"
        },
        "id": "yj_CuTt-ANCU",
        "outputId": "d69257de-523b-4040-ee35-b4c224a3d7a1"
      },
      "execution_count": null,
      "outputs": [
        {
          "output_type": "stream",
          "name": "stdout",
          "text": [
            "tensor([[ 1.5364e+00],\n",
            "        [-5.1028e-01],\n",
            "        [-2.0414e-01],\n",
            "        [-1.1832e+00],\n",
            "        [-3.3361e-01],\n",
            "        [ 1.5401e+00],\n",
            "        [ 6.9926e-01],\n",
            "        [ 1.7585e+00],\n",
            "        [-3.7227e-01],\n",
            "        [ 7.1518e-01],\n",
            "        [-2.2767e+00],\n",
            "        [-1.5985e+00],\n",
            "        [ 1.8639e+00],\n",
            "        [ 1.4368e+00],\n",
            "        [ 3.1746e-01],\n",
            "        [-2.1696e+00],\n",
            "        [-2.6024e+00],\n",
            "        [ 1.2230e+00],\n",
            "        [ 5.1760e-01],\n",
            "        [-7.8719e-01],\n",
            "        [-5.2491e-01],\n",
            "        [ 5.9826e-01],\n",
            "        [-1.6467e+00],\n",
            "        [-1.1391e+00],\n",
            "        [ 1.0160e-01],\n",
            "        [ 1.4048e+00],\n",
            "        [ 1.6760e-01],\n",
            "        [ 4.9121e-02],\n",
            "        [-1.4742e+00],\n",
            "        [-5.7720e-01],\n",
            "        [ 9.3452e-02],\n",
            "        [ 4.9751e-01],\n",
            "        [ 3.1624e-01],\n",
            "        [-2.7237e+00],\n",
            "        [-1.4413e+00],\n",
            "        [ 7.0347e-01],\n",
            "        [-3.4869e-01],\n",
            "        [-1.0435e+00],\n",
            "        [ 5.8695e-01],\n",
            "        [ 5.4010e-01],\n",
            "        [-2.1607e+00],\n",
            "        [-1.3675e+00],\n",
            "        [ 2.9907e+00],\n",
            "        [ 6.0194e-01],\n",
            "        [-6.4382e-01],\n",
            "        [ 2.1471e+00],\n",
            "        [ 3.8814e-01],\n",
            "        [-2.3568e-03],\n",
            "        [ 5.0232e-01],\n",
            "        [-2.2205e-01],\n",
            "        [ 6.3631e-01],\n",
            "        [ 1.4683e+00],\n",
            "        [ 9.1158e-01],\n",
            "        [ 2.6640e+00],\n",
            "        [-1.5998e+00],\n",
            "        [-1.7420e+00],\n",
            "        [-1.2335e-01],\n",
            "        [ 2.4806e+00],\n",
            "        [-1.0147e+00],\n",
            "        [-8.8915e-01],\n",
            "        [-8.7369e-01],\n",
            "        [ 1.2811e+00],\n",
            "        [-6.8330e-01],\n",
            "        [-1.2876e+00],\n",
            "        [ 1.5251e+00],\n",
            "        [-1.7303e+00],\n",
            "        [-3.4523e+00],\n",
            "        [ 2.2378e+00],\n",
            "        [ 1.9148e-02],\n",
            "        [-8.8843e-01],\n",
            "        [-2.0214e-01],\n",
            "        [ 4.5432e-01],\n",
            "        [ 1.0324e+00],\n",
            "        [-2.6581e+00],\n",
            "        [-3.4845e-01],\n",
            "        [-1.4257e+00],\n",
            "        [ 1.0488e+00],\n",
            "        [ 1.4245e+00],\n",
            "        [ 1.3957e+00],\n",
            "        [-3.6946e-01],\n",
            "        [-1.9733e-01],\n",
            "        [ 2.2851e+00],\n",
            "        [ 1.9792e+00],\n",
            "        [-1.8723e+00],\n",
            "        [ 2.1552e-01],\n",
            "        [-1.0780e+00],\n",
            "        [ 2.3719e+00],\n",
            "        [-8.4742e-01],\n",
            "        [-4.4775e-01],\n",
            "        [ 1.0463e-01],\n",
            "        [-2.1198e+00],\n",
            "        [-9.6453e-01],\n",
            "        [ 1.0266e+00],\n",
            "        [ 1.0797e+00],\n",
            "        [ 2.5105e-01],\n",
            "        [ 1.9816e+00],\n",
            "        [-1.4442e+00],\n",
            "        [-5.2574e-01],\n",
            "        [-6.1708e-01],\n",
            "        [-2.5070e+00],\n",
            "        [ 6.3626e-01],\n",
            "        [-1.4513e+00],\n",
            "        [ 2.0201e+00],\n",
            "        [-1.0403e+00],\n",
            "        [ 4.2594e-01],\n",
            "        [ 1.0849e+00],\n",
            "        [ 5.6858e-01],\n",
            "        [-1.1361e+00],\n",
            "        [-5.3163e-02],\n",
            "        [-5.3778e-01],\n",
            "        [ 1.7692e+00],\n",
            "        [-2.0130e+00],\n",
            "        [-1.1156e+00],\n",
            "        [-1.6874e+00],\n",
            "        [-6.6550e-01],\n",
            "        [ 8.1623e-01],\n",
            "        [ 8.9237e-01],\n",
            "        [-1.4412e-01],\n",
            "        [ 2.0916e+00],\n",
            "        [ 9.0586e-01],\n",
            "        [ 1.2077e+00],\n",
            "        [ 3.6202e-01],\n",
            "        [ 1.2515e+00],\n",
            "        [ 1.6984e-01],\n",
            "        [ 1.2077e+00],\n",
            "        [ 5.1397e-01],\n",
            "        [ 1.0119e+00],\n",
            "        [ 2.5600e+00],\n",
            "        [-5.0043e-01],\n",
            "        [-2.8197e-02],\n",
            "        [-4.6737e-01],\n",
            "        [-6.6797e-01],\n",
            "        [ 2.7117e-01],\n",
            "        [-3.0451e-01],\n",
            "        [-2.5245e+00],\n",
            "        [-2.9868e-01],\n",
            "        [-2.2020e+00],\n",
            "        [ 5.9207e-01],\n",
            "        [ 2.4151e-01],\n",
            "        [ 4.3670e-01],\n",
            "        [ 4.3931e-01],\n",
            "        [ 2.8277e+00],\n",
            "        [-1.9576e+00],\n",
            "        [ 1.6536e+00],\n",
            "        [-1.0274e+00],\n",
            "        [-5.6226e-01],\n",
            "        [-2.3168e+00]])\n"
          ]
        }
      ]
    }
  ]
}