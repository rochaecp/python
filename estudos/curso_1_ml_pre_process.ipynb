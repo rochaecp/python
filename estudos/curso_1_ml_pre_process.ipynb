{
  "nbformat": 4,
  "nbformat_minor": 0,
  "metadata": {
    "colab": {
      "provenance": [],
      "collapsed_sections": [
        "ZC6DHh-lXueM",
        "15TqzLPKYFVK",
        "e3Qfzokne79l",
        "LezQu7DzgiND"
      ],
      "authorship_tag": "ABX9TyNkM6cZXzPJBdWH06iy05Dp"
    },
    "kernelspec": {
      "name": "python3",
      "display_name": "Python 3"
    },
    "language_info": {
      "name": "python"
    }
  },
  "cells": [
    {
      "cell_type": "markdown",
      "source": [
        "# Ler e exibir um dataset"
      ],
      "metadata": {
        "id": "ZC6DHh-lXueM"
      }
    },
    {
      "cell_type": "markdown",
      "source": [
        "## Ler e exibir um dataset a partir de um arquivo de texto"
      ],
      "metadata": {
        "id": "5pipv338Xwnr"
      }
    },
    {
      "cell_type": "markdown",
      "source": [
        "- sep='\\t': usa tabulações como separador"
      ],
      "metadata": {
        "id": "Yk_ujetoX8-u"
      }
    },
    {
      "cell_type": "code",
      "execution_count": null,
      "metadata": {
        "id": "EBn96zyOV4AK"
      },
      "outputs": [],
      "source": [
        "import pandas as pd\n",
        "\n",
        "frutas = pd.read_table('datasets/fruit_data_with_colors.txt',sep='\\t')\n",
        "print(frutas)"
      ]
    },
    {
      "cell_type": "markdown",
      "source": [
        "## Ler e exibir as primeiras n linhas de um dataset"
      ],
      "metadata": {
        "id": "OWYjzj23YB67"
      }
    },
    {
      "cell_type": "code",
      "source": [
        "import pandas as pd\n",
        "\n",
        "frutas = pd.read_table('datasets/fruit_data_with_colors.txt',sep='\\t')\n",
        "print(frutas.head(5))"
      ],
      "metadata": {
        "id": "I1ZuOnTLYCqP"
      },
      "execution_count": null,
      "outputs": []
    },
    {
      "cell_type": "markdown",
      "source": [
        "## Ler e exibir apenas uma coluna de um dataset"
      ],
      "metadata": {
        "id": "6NHn3f3iYEys"
      }
    },
    {
      "cell_type": "code",
      "source": [
        "import pandas as pd\n",
        "\n",
        "frutas = pd.read_table('datasets/fruit_data_with_colors.txt',sep='\\t')\n",
        "print(frutas['color_score']) # exibe somente a coluna color_score"
      ],
      "metadata": {
        "id": "Fqv_SQnOYEyt"
      },
      "execution_count": null,
      "outputs": []
    },
    {
      "cell_type": "markdown",
      "source": [
        "## Ler e exibir 2 ou mais colunas de um dataset"
      ],
      "metadata": {
        "id": "f8bukPCUYE9X"
      }
    },
    {
      "cell_type": "code",
      "source": [
        "import pandas as pd\n",
        "\n",
        "frutas = pd.read_table('datasets/fruit_data_with_colors.txt',sep='\\t')\n",
        "print(frutas[['mass', 'color_score']])"
      ],
      "metadata": {
        "id": "b6Rk2ni1YE9Y"
      },
      "execution_count": null,
      "outputs": []
    },
    {
      "cell_type": "markdown",
      "source": [
        "## Ler e exibir um intervalo de linhas de um dataset"
      ],
      "metadata": {
        "id": "K_sY7NJyYFEu"
      }
    },
    {
      "cell_type": "markdown",
      "source": [
        "- O intervalo é fechado no início e aberto no fim.  "
      ],
      "metadata": {
        "id": "rkmQf6UXet8Q"
      }
    },
    {
      "cell_type": "code",
      "source": [
        "import pandas as pd\n",
        "\n",
        "frutas = pd.read_table('datasets/fruit_data_with_colors.txt',sep='\\t')\n",
        "print(frutas[10:15]) # exibe da linha 10 até a linha 15 (não incluindo o 15)"
      ],
      "metadata": {
        "id": "cqKCToreYFEu"
      },
      "execution_count": null,
      "outputs": []
    },
    {
      "cell_type": "code",
      "source": [
        "import pandas as pd\n",
        "\n",
        "frutas = pd.read_table('datasets/fruit_data_with_colors.txt',sep='\\t')\n",
        "i = 15\n",
        "print(frutas[i-5:i]) # exibe da linha 10 até a linha 14\n",
        "print(frutas[i:i+5]) # exibe da linha 15 até a linha 19"
      ],
      "metadata": {
        "id": "nt7pj4Ote05G"
      },
      "execution_count": null,
      "outputs": []
    },
    {
      "cell_type": "markdown",
      "source": [
        "## Ler e exibir algumas colunas de algumas linhas"
      ],
      "metadata": {
        "id": "zyuk2IPhYFRr"
      }
    },
    {
      "cell_type": "code",
      "source": [
        "import pandas as pd\n",
        "\n",
        "frutas = pd.read_table('datasets/fruit_data_with_colors.txt',sep='\\t')\n",
        "i = 15\n",
        "print(frutas[['mass', 'color_score']][i:i+5]) # exibe mass e color_score da linha 15 a 19"
      ],
      "metadata": {
        "id": "bfFssp7hYFRs"
      },
      "execution_count": null,
      "outputs": []
    },
    {
      "cell_type": "markdown",
      "source": [
        "# Análise Estatística de um conjunto de dados"
      ],
      "metadata": {
        "id": "15TqzLPKYFVK"
      }
    },
    {
      "cell_type": "markdown",
      "source": [
        "## Ler e exibir quantidade de linhas e colunas de um dataset"
      ],
      "metadata": {
        "id": "LZuzaVSafQXs"
      }
    },
    {
      "cell_type": "code",
      "source": [
        "import pandas as pd\n",
        "\n",
        "frutas = pd.read_table('datasets/fruit_data_with_colors.txt',sep='\\t')\n",
        "print(frutas.shape) # (linhas, colunas)\n",
        "print(frutas.shape[0]) # (linhas)"
      ],
      "metadata": {
        "id": "4qLoZhjOYFVL"
      },
      "execution_count": null,
      "outputs": []
    },
    {
      "cell_type": "markdown",
      "source": [
        "## Realizar análises estatísticas com describe()"
      ],
      "metadata": {
        "id": "RZDcAztge7zn"
      }
    },
    {
      "cell_type": "markdown",
      "source": [
        "- Só opera em colunas com valores numéricos.  \n",
        "- 25%: indica que 25% dos dados possuem valor menor que o representado na coluna.  "
      ],
      "metadata": {
        "id": "KfQLApYBfYRF"
      }
    },
    {
      "cell_type": "code",
      "source": [
        "import pandas as pd\n",
        "\n",
        "frutas = pd.read_table('datasets/fruit_data_with_colors.txt',sep='\\t')\n",
        "print(frutas.describe())"
      ],
      "metadata": {
        "id": "-SwGn9PZe7zo"
      },
      "execution_count": null,
      "outputs": []
    },
    {
      "cell_type": "markdown",
      "source": [
        "## Realizar análises estatísticas com describe() em apenas em uma coluna"
      ],
      "metadata": {
        "id": "O9ye7cYue73o"
      }
    },
    {
      "cell_type": "code",
      "source": [
        "import pandas as pd\n",
        "\n",
        "frutas = pd.read_table('datasets/fruit_data_with_colors.txt',sep='\\t')\n",
        "print(frutas.describe()['mass'])"
      ],
      "metadata": {
        "id": "z-pZBXmHe73p"
      },
      "execution_count": null,
      "outputs": []
    },
    {
      "cell_type": "markdown",
      "source": [
        "## Realizar uma análise estatística específica com describe() em apenas em uma coluna"
      ],
      "metadata": {
        "id": "RgDDYNwZe76n"
      }
    },
    {
      "cell_type": "code",
      "source": [
        "import pandas as pd\n",
        "\n",
        "frutas = pd.read_table('datasets/fruit_data_with_colors.txt',sep='\\t')\n",
        "print(frutas.describe()['mass']['mean'])"
      ],
      "metadata": {
        "id": "tXPEwaPze76n"
      },
      "execution_count": null,
      "outputs": []
    },
    {
      "cell_type": "markdown",
      "source": [
        "# Análise e visualização de um Conjunto de Dados"
      ],
      "metadata": {
        "id": "e3Qfzokne79l"
      }
    },
    {
      "cell_type": "markdown",
      "source": [
        "## Exibir quantas vezes uma variável aparece no conjunto de dados"
      ],
      "metadata": {
        "id": "vSBZIgOPgmqJ"
      }
    },
    {
      "cell_type": "code",
      "source": [
        "import pandas as pd\n",
        "\n",
        "frutas = pd.read_table('datasets/fruit_data_with_colors.txt',sep='\\t')\n",
        "freq = frutas['fruit_name'].value_counts()\n",
        "print(freq)"
      ],
      "metadata": {
        "id": "iAMba5Mwe79m"
      },
      "execution_count": null,
      "outputs": []
    },
    {
      "cell_type": "markdown",
      "source": [
        "## Exibir apenas linhas do dataset que representam maçãs"
      ],
      "metadata": {
        "id": "ep8WFRnde8An"
      }
    },
    {
      "cell_type": "code",
      "source": [
        "import pandas as pd\n",
        "\n",
        "frutas = pd.read_table('datasets/fruit_data_with_colors.txt',sep='\\t')\n",
        "macas = frutas['fruit_name'] == 'apple'\n",
        "print(frutas[macas])"
      ],
      "metadata": {
        "id": "lHLz27lae8An"
      },
      "execution_count": null,
      "outputs": []
    },
    {
      "cell_type": "markdown",
      "source": [
        "## Exibir apenas linhas do dataset que representam maçãs com uma massa maior que 175"
      ],
      "metadata": {
        "id": "M9h2v-ere8Dy"
      }
    },
    {
      "cell_type": "code",
      "source": [
        "import pandas as pd\n",
        "\n",
        "frutas = pd.read_table('datasets/fruit_data_with_colors.txt',sep='\\t')\n",
        "macas = frutas['fruit_name'] == 'apple'\n",
        "pesadas = frutas['mass'] > 175\n",
        "print(frutas[macas & pesadas])"
      ],
      "metadata": {
        "id": "zDEIUpfje8D0"
      },
      "execution_count": null,
      "outputs": []
    },
    {
      "cell_type": "markdown",
      "source": [
        "## Exibir um gráfico com o eixo x == largura e o y == altura de maçãs com massa maior que 175"
      ],
      "metadata": {
        "id": "yaR0FKJue8HT"
      }
    },
    {
      "cell_type": "code",
      "source": [
        "import matplotlib.pyplot as plt\n",
        "import pandas as pd\n",
        "\n",
        "frutas = pd.read_table('datasets/fruit_data_with_colors.txt',sep='\\t')\n",
        "macas = frutas['fruit_name'] == 'apple'\n",
        "pesadas = frutas['mass'] > 175\n",
        "X1 = frutas[macas & pesadas]['width']\n",
        "X2 = frutas[macas & pesadas]['height']\n",
        "\n",
        "plt.scatter(X1, X2)\n",
        "plt.xlabel('Comprimento')\n",
        "plt.ylabel('Altura')\n",
        "plt.show()"
      ],
      "metadata": {
        "id": "tLRI-bhje8HU"
      },
      "execution_count": null,
      "outputs": []
    },
    {
      "cell_type": "markdown",
      "source": [
        "## Exibir um gráfico com todas as informações de comprimento e altura de todas as frutas"
      ],
      "metadata": {
        "id": "J6OMX1Zxe8Kv"
      }
    },
    {
      "cell_type": "code",
      "source": [
        "import matplotlib.pyplot as plt\n",
        "import pandas as pd\n",
        "\n",
        "frutas = pd.read_table('datasets/fruit_data_with_colors.txt',sep='\\t')\n",
        "X1 = frutas['width']\n",
        "X2 = frutas['height']\n",
        "\n",
        "plt.scatter(X1, X2)\n",
        "plt.xlabel('Comprimento')\n",
        "plt.ylabel('Altura')\n",
        "plt.show()"
      ],
      "metadata": {
        "id": "7auYMofde8Kv"
      },
      "execution_count": null,
      "outputs": []
    },
    {
      "cell_type": "markdown",
      "source": [
        "## Exibir um gráfico com todas as informações de comprimento e altura de todas as frutas com rótulos coloridos"
      ],
      "metadata": {
        "id": "6vi4rrYOgiF_"
      }
    },
    {
      "cell_type": "code",
      "source": [
        "import matplotlib.pyplot as plt\n",
        "import pandas as pd\n",
        "\n",
        "frutas = pd.read_table('datasets/fruit_data_with_colors.txt',sep='\\t')\n",
        "X1 = frutas['width']\n",
        "X2 = frutas['height']\n",
        "y = frutas['fruit_label']\n",
        "\n",
        "plt.scatter(X1, X2, c=y)\n",
        "plt.xlabel('Comprimento')\n",
        "plt.ylabel('Altura')\n",
        "plt.show()"
      ],
      "metadata": {
        "id": "S2lgs-O4giGL"
      },
      "execution_count": null,
      "outputs": []
    },
    {
      "cell_type": "markdown",
      "source": [
        "# Introdução ao pré-processamento de dados com Python"
      ],
      "metadata": {
        "id": "LezQu7DzgiND"
      }
    },
    {
      "cell_type": "markdown",
      "source": [
        "## Imputar (injetar dados) dados faltantes"
      ],
      "metadata": {
        "id": "0j3WlO5QhX4Y"
      }
    },
    {
      "cell_type": "markdown",
      "source": [
        "- O dataset trabalhado aqui é o **fruit_data_with_colors_miss.txt**.  \n",
        "- Em algumas colunas há pontos de interrogação e carateres de ponto no lugar de dados faltantes.  \n",
        "- parâmetro ```na_values```: lista de valores faltantes (representados no exemplo pelo ponto e pela interrogação).\n",
        "- É **ineficiente** quando estão faltando muitos dados no conjunto."
      ],
      "metadata": {
        "id": "tKJy36Nnha33"
      }
    },
    {
      "cell_type": "markdown",
      "source": [
        "#### Substituir valores faltantes por NaN"
      ],
      "metadata": {
        "id": "rdBSlU4xhkuX"
      }
    },
    {
      "cell_type": "code",
      "source": [
        "import pandas as pd\n",
        "\n",
        "data = pd.read_table('datasets/fruit_data_with_colors_miss.txt',na_values=['.', '?'])\n",
        "print(data)"
      ],
      "metadata": {
        "id": "rOXbCyoagiNF"
      },
      "execution_count": null,
      "outputs": []
    },
    {
      "cell_type": "markdown",
      "source": [
        "#### Substituir valores faltantes por zero"
      ],
      "metadata": {
        "id": "rsV73I1PgiyW"
      }
    },
    {
      "cell_type": "code",
      "source": [
        "import pandas as pd\n",
        "\n",
        "data = pd.read_table('datasets/fruit_data_with_colors_miss.txt',na_values=['.', '?'])\n",
        "data.fillna(0)\n",
        "print(data)"
      ],
      "metadata": {
        "id": "AWxcYzy6giyW"
      },
      "execution_count": null,
      "outputs": []
    },
    {
      "cell_type": "markdown",
      "source": [
        "#### Substituir valores faltantes pela média da coluna"
      ],
      "metadata": {
        "id": "ke127yTvg29n"
      }
    },
    {
      "cell_type": "markdown",
      "source": [
        "- A média de cada coluna é utilizada para imputar os dados faltantes.  \n",
        "- Não funciona bem para colunas textuais (foi utilizado o nome do elemento que mais aparece na coluna).  "
      ],
      "metadata": {
        "id": "Rj09mF1ihypU"
      }
    },
    {
      "cell_type": "code",
      "source": [
        "import pandas as pd\n",
        "\n",
        "data = pd.read_table('datasets/fruit_data_with_colors_miss.txt',na_values=['.', '?'])\n",
        "\n",
        "# colunas com dados faltantes recebe a média da coluna\n",
        "data = data.fillna(data.mean())\n",
        "\n",
        "# corrige para colunas textuais com elemento que mais aparece na coluna\n",
        "data['fruit_subtype'] = data['fruit_subtype'].fillna(data['fruit_subtype'].value_counts().argmax())\n",
        "\n",
        "print(data)"
      ],
      "metadata": {
        "id": "uQGychfjg294"
      },
      "execution_count": null,
      "outputs": []
    },
    {
      "cell_type": "markdown",
      "source": [
        "## Eliminação de Colunas"
      ],
      "metadata": {
        "id": "9G10Ak3-g3Bw"
      }
    },
    {
      "cell_type": "markdown",
      "source": [
        "- Pode ser usada quando faltam muitos dados em uma coluna.  \n",
        "- Exemplo de abordagem: se a % de dados faltantes for superior a 25% então eliminar a coluna.  "
      ],
      "metadata": {
        "id": "Zh4kqO3Xh68r"
      }
    },
    {
      "cell_type": "code",
      "source": [
        "import pandas as pd\n",
        "\n",
        "data = pd.read_table('datasets/fruit_data_with_colors_miss.txt',na_values=['.', '?'])\n",
        "\n",
        "print(data.shape[0])                                # total de dados\n",
        "print(data.isnull().sum())                          # colunas x total de dados faltantes na coluna\n",
        "print(data.isnull().sum() / data.shape[0] * 100)    # % de dados faltantes\n",
        "\n",
        "# eliminando a coluna\n",
        "data = data[['fruit_label', 'fruit_name', 'fruit_subtype', 'width', 'height', 'color_score']] # colunas que desejamos manter"
      ],
      "metadata": {
        "id": "zg3MhsYhg3Bx"
      },
      "execution_count": null,
      "outputs": []
    },
    {
      "cell_type": "markdown",
      "source": [
        "## Transformar a escala dos dados"
      ],
      "metadata": {
        "id": "gaS41bZ5g3FK"
      }
    },
    {
      "cell_type": "markdown",
      "source": [
        "- Para cada coluna iremos escalar os valores para o intervalo [0; 1]:   \n",
        "- ```valor_escalado = (valor_para_transformar - menor_valor_coluna) / (maior_valor_coluna - menor_valor_coluna)```  \n",
        "- Descartar colunas que possuam todos os valores iguais.  \n",
        "- Utilizaremos o sklearn.  "
      ],
      "metadata": {
        "id": "xCdO4mAOiGB_"
      }
    },
    {
      "cell_type": "code",
      "source": [
        "import pandas as pd\n",
        "from sklearn.preprocessing import MinMaxScaler # classe que transforma a escala dos dados\n",
        "\n",
        "data = pd.read_table('datasets/fruit_data_with_colors_miss.txt', na_values=['.', '?'])\n",
        "data = data.fillna(data.mean())                         # imputação dos dados faltantes com a média\n",
        "data = data[['mass', 'width', 'height', 'color_score']] # seleciona apenas colunas com dados numéricos\n",
        "\n",
        "#print(data.describe()) # observar que dados estão em escalas diferentes\n",
        "\n",
        "mm = MinMaxScaler()\n",
        "mm.fit(data) # obtem maximo e minimo do dataset\n",
        "data_escalados = mm.transform(data) # obtem dados escalados\n",
        "print(data_escalados)"
      ],
      "metadata": {
        "id": "J4igWHNog3FL"
      },
      "execution_count": null,
      "outputs": []
    }
  ]
}