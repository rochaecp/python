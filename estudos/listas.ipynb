{
  "nbformat": 4,
  "nbformat_minor": 0,
  "metadata": {
    "colab": {
      "provenance": [],
      "collapsed_sections": [
        "O-o3SiaIBU1t",
        "eyqM17G6BX2C",
        "-9gB2TgXBX9C",
        "uxqVGrycBYDa",
        "cuW2UyHMCZ0-",
        "p8GoAdfDCZ1X",
        "fOpiliBgFM77",
        "uvloy-wPFQMl",
        "iE6tDTgyFX9T",
        "APhewLXEA05t",
        "w32RFBQ37KwI"
      ],
      "authorship_tag": "ABX9TyOJ7/5zWiAjgwndtRGR/47D"
    },
    "kernelspec": {
      "name": "python3",
      "display_name": "Python 3"
    },
    "language_info": {
      "name": "python"
    }
  },
  "cells": [
    {
      "cell_type": "markdown",
      "source": [
        "# Criar"
      ],
      "metadata": {
        "id": "O-o3SiaIBU1t"
      }
    },
    {
      "cell_type": "code",
      "source": [
        "lista_vazia = []\n",
        "lista_numeros = [1, 2, 3, 4]\n",
        "lista_nomes = [\"Mauricio\", \"Vitoria\", \"Sandra\"]\n",
        "\n",
        "# Construtor\n",
        "lista_1 = list(\"minha string\")\n",
        "lista_2 = list((1, 2, 3)) # tupla\n",
        "lista_3 = list({1, 2, 3}) # conjunto"
      ],
      "metadata": {
        "colab": {
          "base_uri": "https://localhost:8080/"
        },
        "id": "BvrUkeskBVi3",
        "outputId": "f3889543-fe57-4697-ee9b-41044ab312a6"
      },
      "execution_count": null,
      "outputs": [
        {
          "output_type": "execute_result",
          "data": {
            "text/plain": [
              "[1, 2, 3]"
            ]
          },
          "metadata": {},
          "execution_count": 4
        }
      ]
    },
    {
      "cell_type": "markdown",
      "source": [
        "# Tamanho"
      ],
      "metadata": {
        "id": "eyqM17G6BX2C"
      }
    },
    {
      "cell_type": "code",
      "source": [
        "lista = [1, 2, 3]\n",
        "print(len(lista))"
      ],
      "metadata": {
        "colab": {
          "base_uri": "https://localhost:8080/"
        },
        "id": "WG-qeysXBX2M",
        "outputId": "7870ab5c-95a9-4425-ee56-66de9e7fc5ee"
      },
      "execution_count": null,
      "outputs": [
        {
          "output_type": "stream",
          "name": "stdout",
          "text": [
            "3\n"
          ]
        }
      ]
    },
    {
      "cell_type": "markdown",
      "source": [
        "# Indexação"
      ],
      "metadata": {
        "id": "-9gB2TgXBX9C"
      }
    },
    {
      "cell_type": "code",
      "source": [
        "minha_lista = [1, 2, 3, 4]\n",
        "\n",
        "print(minha_lista[0])\n",
        "print(minha_lista[-1])\n",
        "print(minha_lista[-2])\n",
        "print()\n",
        "\n",
        "# Todos Elementos - jeito 1\n",
        "for x in minha_lista:\n",
        "    print(x)\n",
        "print()\n",
        "\n",
        "# Todos Elementos - jeito 2\n",
        "for i in range(len(minha_lista)):\n",
        "    print(minha_lista[i])\n",
        "print()\n",
        "\n",
        "# Todos Elementos - jeito 3\n",
        "[print(x) for x in minha_lista]"
      ],
      "metadata": {
        "id": "ytY8qGTfBX9C"
      },
      "execution_count": null,
      "outputs": []
    },
    {
      "cell_type": "markdown",
      "source": [
        "# Slice"
      ],
      "metadata": {
        "id": "uxqVGrycBYDa"
      }
    },
    {
      "cell_type": "code",
      "source": [
        "minha_lista = [1, 2, 3, 4, 5, 6, 7, 8]\n",
        "\n",
        "print(minha_lista[2:5])\n",
        "print(minha_lista[:3])\n",
        "print(minha_lista[0:3])\n",
        "print(minha_lista[2:])\n",
        "print(minha_lista[-2:])\n",
        "print(minha_lista[-4:-1])"
      ],
      "metadata": {
        "colab": {
          "base_uri": "https://localhost:8080/"
        },
        "id": "WI90XMAYBYDb",
        "outputId": "daaf26ac-a4c9-4dbb-98dc-6d9be934ee15"
      },
      "execution_count": null,
      "outputs": [
        {
          "output_type": "stream",
          "name": "stdout",
          "text": [
            "[3, 4, 5]\n",
            "[1, 2, 3]\n",
            "[1, 2, 3]\n",
            "[3, 4, 5, 6, 7, 8]\n",
            "[7, 8]\n",
            "[5, 6, 7]\n"
          ]
        }
      ]
    },
    {
      "cell_type": "markdown",
      "source": [
        "# Alterar"
      ],
      "metadata": {
        "id": "cuW2UyHMCZ0-"
      }
    },
    {
      "cell_type": "code",
      "source": [
        "lista = [\"Kiwi\", \"Banana\", \"Uva\"]\n",
        "lista[0] = \"Morango\"\n",
        "print(lista)\n",
        "print()\n",
        "\n",
        "# Slice\n",
        "lista[1:3] = [\"Abacate\", \"Tomate\"]\n",
        "print(lista)\n",
        "print()\n"
      ],
      "metadata": {
        "colab": {
          "base_uri": "https://localhost:8080/"
        },
        "id": "9LLk3USTCZ1X",
        "outputId": "5945cbeb-20f5-404f-cc18-429e5106e738"
      },
      "execution_count": null,
      "outputs": [
        {
          "output_type": "stream",
          "name": "stdout",
          "text": [
            "['Morango', 'Banana', 'Uva']\n",
            "\n",
            "['Morango', 'Abacate', 'Tomate']\n",
            "\n"
          ]
        }
      ]
    },
    {
      "cell_type": "markdown",
      "source": [
        "# Inserir"
      ],
      "metadata": {
        "id": "p8GoAdfDCZ1X"
      }
    },
    {
      "cell_type": "code",
      "source": [
        "lista = ['Mauricio']\n",
        "\n",
        "lista.append('Vitoria')\n",
        "lista.insert(0, 'Sandra')\n",
        "lista.insert(1, 'Savanah')\n",
        "print(lista)\n",
        "print()\n",
        "\n",
        "lista_2 = [\"Jacqueline\"] # ou tupla\n",
        "lista.extend(lista_2)\n",
        "print(lista)\n",
        "print()"
      ],
      "metadata": {
        "colab": {
          "base_uri": "https://localhost:8080/"
        },
        "id": "Tge4CQjECZ1X",
        "outputId": "6ac3d49f-c313-45d8-c404-29519cd6f7e5"
      },
      "execution_count": null,
      "outputs": [
        {
          "output_type": "stream",
          "name": "stdout",
          "text": [
            "['Sandra', 'Savanah', 'Mauricio', 'Vitoria']\n",
            "\n",
            "['Sandra', 'Savanah', 'Mauricio', 'Vitoria', 'Jacqueline']\n",
            "\n"
          ]
        }
      ]
    },
    {
      "cell_type": "markdown",
      "source": [
        "# Remover"
      ],
      "metadata": {
        "id": "fOpiliBgFM77"
      }
    },
    {
      "cell_type": "code",
      "source": [
        "lista = ['Mauricio', 'Tesla', 'Newton', 'Turing']\n",
        "\n",
        "lista.remove('Tesla')\n",
        "print(lista)\n",
        "print()\n",
        "\n",
        "print(lista.pop(2))\n",
        "print(lista.pop(-1))\n",
        "\n",
        "# limpar\n",
        "lista.clear()\n",
        "\n",
        "# itens duplicados\n",
        "lista = ['Mauricio', 'Tesla', 'Newton', \"Newton\"]\n",
        "conj = set(lista)\n",
        "lista = list(conj)\n",
        "print(lista)\n",
        "print()"
      ],
      "metadata": {
        "colab": {
          "base_uri": "https://localhost:8080/"
        },
        "id": "K_pSzYfbFNtW",
        "outputId": "03a2d90a-37c4-454e-dbbf-9ac151e9742d"
      },
      "execution_count": null,
      "outputs": [
        {
          "output_type": "stream",
          "name": "stdout",
          "text": [
            "['Mauricio', 'Newton', 'Turing']\n",
            "\n",
            "Turing\n",
            "Newton\n",
            "['Mauricio', 'Tesla', 'Newton']\n",
            "\n"
          ]
        }
      ]
    },
    {
      "cell_type": "markdown",
      "source": [
        "# Ordenar"
      ],
      "metadata": {
        "id": "ZTquhyFPFP_d"
      }
    },
    {
      "cell_type": "code",
      "source": [
        "lista = ['Mauricio', 'Tesla', 'newton', 'Turing']\n",
        "lista_int = [100, 50, 65, 82, 23]\n",
        "\n",
        "lista.sort()\n",
        "print(lista)\n",
        "print()\n",
        "\n",
        "# ordem case INsensitive\n",
        "lista.sort(key = str.lower)\n",
        "print(lista)\n",
        "print()\n",
        "\n",
        "# ordem decrescente\n",
        "lista_int.sort(reverse = True)\n",
        "print(lista_int)\n",
        "print()\n",
        "\n",
        "# ordem inversa\n",
        "lista_int.reverse()\n",
        "print(lista_int)\n",
        "print()\n",
        "\n",
        "# baseado em proximidade para 50\n",
        "def myFunction(n):\n",
        "    return abs(n - 50)\n",
        "lista_int.sort(key = myFunction)\n",
        "print(lista_int)\n",
        "print()"
      ],
      "metadata": {
        "id": "0hThTyV8FP_f"
      },
      "execution_count": null,
      "outputs": []
    },
    {
      "cell_type": "markdown",
      "source": [
        "# Copiar / Juntar"
      ],
      "metadata": {
        "id": "uvloy-wPFQMl"
      }
    },
    {
      "cell_type": "code",
      "source": [
        "lista_1 = ['Mauricio', 'Tesla']\n",
        "lista_2 = ['Newton', 'Vitoria']\n",
        "\n",
        "# Copiar - jeito 1\n",
        "lista_cpy = lista.copy() # ou lista_cpy = list(lista)\n",
        "\n",
        "# Copiar - jeito 2\n",
        "lista_cpy = [x for x in lista]\n",
        "\n",
        "# Juntar - jeito 1\n",
        "lista_juncao = lista_1 + lista_2\n",
        "print(lista_juncao)\n",
        "print()\n",
        "\n",
        "# Juntar - jeito 2\n",
        "lista_1.extend(lista_2)\n",
        "print(lista_1)\n",
        "print()\n",
        "\n",
        "# Juntar - jeito 3\n",
        "lista_1 = ['Mauricio', 'Tesla']\n",
        "for item in lista_2:\n",
        "    lista_1.append(item)\n",
        "print(lista_1)\n",
        "print()\n",
        "\n",
        "# Juntar - em uma String\n",
        "print(' '.join(lista_1))\n",
        "print()"
      ],
      "metadata": {
        "colab": {
          "base_uri": "https://localhost:8080/"
        },
        "id": "geuL7fm7FX9T",
        "outputId": "716447db-c027-4368-e399-adee5f5b4b50"
      },
      "execution_count": null,
      "outputs": [
        {
          "output_type": "stream",
          "name": "stdout",
          "text": [
            "['Mauricio', 'Tesla', 'Newton', 'Vitoria']\n",
            "\n",
            "['Mauricio', 'Tesla', 'Newton', 'Vitoria']\n",
            "\n",
            "['Mauricio', 'Tesla', 'Newton', 'Vitoria']\n",
            "\n",
            "Mauricio Tesla Newton Vitoria\n",
            "\n"
          ]
        }
      ]
    },
    {
      "cell_type": "markdown",
      "source": [
        "# List Comprehension"
      ],
      "metadata": {
        "id": "iE6tDTgyFX9T"
      }
    },
    {
      "cell_type": "code",
      "source": [
        "lista = [\"banana\", \"morango\", \"laranja\"]\n",
        "\n",
        "# Copiar\n",
        "lista_cpy = [x for x in lista]\n",
        "print(lista_cpy)\n",
        "print()\n",
        "\n",
        "# Tornar Maiúsculo\n",
        "lista_maiusc = [x.upper() for x in lista]\n",
        "print(lista_maiusc)\n",
        "print()\n",
        "\n",
        "# Criar lista a partir de range\n",
        "lista_range = [x for x in range(1, 6)]\n",
        "print(lista_range)\n",
        "print()\n",
        "\n",
        "# Criar lista a partir de outra eliminando algum item\n",
        "lista_2 = [x for x in lista if x != \"laranja\"]\n",
        "print(lista_2)\n",
        "print()\n",
        "\n",
        "# Criar lista a partir de outra eliminando itens com a letra 'o'\n",
        "lista_3 = [x for x in lista if 'o' not in x]\n",
        "print(lista_3)\n",
        "print()\n",
        "\n",
        "# Criar lista a partir de outra alterando algum item\n",
        "lista_3 = [x if x != \"banana\" else \"Banana\" for x in lista ]\n",
        "print(lista_3)\n",
        "print()\n"
      ],
      "metadata": {
        "colab": {
          "base_uri": "https://localhost:8080/"
        },
        "id": "5lEaT9rMFYJ-",
        "outputId": "2fdbd283-45a6-4444-fbe2-107f943dec86"
      },
      "execution_count": null,
      "outputs": [
        {
          "output_type": "stream",
          "name": "stdout",
          "text": [
            "['banana', 'morango', 'laranja']\n",
            "\n",
            "['BANANA', 'MORANGO', 'LARANJA']\n",
            "\n",
            "[1, 2, 3, 4, 5]\n",
            "\n",
            "['banana', 'morango']\n",
            "\n",
            "['banana', 'laranja']\n",
            "\n",
            "['Banana', 'morango', 'laranja']\n",
            "\n"
          ]
        }
      ]
    },
    {
      "cell_type": "markdown",
      "source": [
        "# Métodos - [Referência W3schools](https://www.w3schools.com/python/python_ref_list.asp)"
      ],
      "metadata": {
        "id": "APhewLXEA05t"
      }
    },
    {
      "cell_type": "code",
      "source": [
        "lista = [0, 1, 2, 3, 3]\n",
        "\n",
        "# Numeros\n",
        "print(sum(lista))\n",
        "print(max(lista))\n",
        "print(min(lista))\n",
        "print(len(lista))\n",
        "print()\n",
        "\n",
        "# Contar repetidos\n",
        "print(lista.count(3))\n",
        "print()\n",
        "\n",
        "# Obter indice elem\n",
        "print(lista.index(3))\n",
        "print()"
      ],
      "metadata": {
        "colab": {
          "base_uri": "https://localhost:8080/"
        },
        "id": "Twy2ulJ4BAdY",
        "outputId": "24d52ab0-5762-4e0a-88a0-68bff5d2b0e3"
      },
      "execution_count": null,
      "outputs": [
        {
          "output_type": "stream",
          "name": "stdout",
          "text": [
            "9\n",
            "3\n",
            "0\n",
            "5\n",
            "\n",
            "2\n",
            "\n",
            "3\n",
            "\n"
          ]
        }
      ]
    },
    {
      "cell_type": "markdown",
      "source": [
        "# Diversos"
      ],
      "metadata": {
        "id": "w32RFBQ37KwI"
      }
    },
    {
      "cell_type": "code",
      "source": [
        "lista = [0, 1, 2, 3]\n",
        "\n",
        "# Testar\n",
        "print(0 in lista)\n"
      ],
      "metadata": {
        "colab": {
          "base_uri": "https://localhost:8080/"
        },
        "id": "mpdE0Q6s7Nh1",
        "outputId": "ba21070d-1c3b-44cf-f0a0-3405c765e2bc"
      },
      "execution_count": null,
      "outputs": [
        {
          "output_type": "stream",
          "name": "stdout",
          "text": [
            "6\n",
            "3\n",
            "0\n",
            "4\n",
            "\n",
            "True\n"
          ]
        }
      ]
    }
  ]
}