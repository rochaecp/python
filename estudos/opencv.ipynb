{
  "nbformat": 4,
  "nbformat_minor": 0,
  "metadata": {
    "colab": {
      "provenance": [],
      "authorship_tag": "ABX9TyMTvGRxO0D9qMozAyUv08k8"
    },
    "kernelspec": {
      "name": "python3",
      "display_name": "Python 3"
    },
    "language_info": {
      "name": "python"
    }
  },
  "cells": [
    {
      "cell_type": "code",
      "source": [
        "!pip install opencv-python\n",
        "!pip install matplotlib"
      ],
      "metadata": {
        "id": "BUe9QQLz0dSc"
      },
      "execution_count": null,
      "outputs": []
    },
    {
      "cell_type": "markdown",
      "source": [
        "# Ler e exibir uma imagem"
      ],
      "metadata": {
        "id": "T5sPMAqjY2j0"
      }
    },
    {
      "cell_type": "code",
      "execution_count": null,
      "metadata": {
        "id": "8tugZJhPYe9M"
      },
      "outputs": [],
      "source": []
    },
    {
      "cell_type": "code",
      "source": [],
      "metadata": {
        "id": "UZ-qyMfCZcrB"
      },
      "execution_count": null,
      "outputs": []
    },
    {
      "cell_type": "code",
      "source": [],
      "metadata": {
        "id": "kU0iVY5fZclR"
      },
      "execution_count": null,
      "outputs": []
    },
    {
      "cell_type": "markdown",
      "source": [
        "# Salvar uma cópia de uma imagem"
      ],
      "metadata": {
        "id": "npkGtlH3Zy9f"
      }
    },
    {
      "cell_type": "code",
      "source": [],
      "metadata": {
        "id": "jNQl0-NEZbya"
      },
      "execution_count": null,
      "outputs": []
    },
    {
      "cell_type": "markdown",
      "source": [
        "# Ler e exibir um vídeo"
      ],
      "metadata": {
        "id": "iTZdB4T4Z-5-"
      }
    },
    {
      "cell_type": "code",
      "source": [],
      "metadata": {
        "id": "9SV0DJSWZchM"
      },
      "execution_count": null,
      "outputs": []
    },
    {
      "cell_type": "markdown",
      "source": [
        "# Salvar uma cópia de um vídeo"
      ],
      "metadata": {
        "id": "uKa_-NShaEfL"
      }
    },
    {
      "cell_type": "code",
      "source": [],
      "metadata": {
        "id": "xO4Bx83wZccI"
      },
      "execution_count": null,
      "outputs": []
    }
  ]
}